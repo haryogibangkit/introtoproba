{
 "cells": [
  {
   "cell_type": "code",
   "execution_count": 1,
   "id": "0238e731",
   "metadata": {},
   "outputs": [],
   "source": [
    "import pandas as pd\n",
    "import numpy as np\n",
    "import matplotlib.pyplot as plt\n",
    "import seaborn as sns\n",
    "import scipy.stats as stats\n",
    "from scipy.stats import norm"
   ]
  },
  {
   "cell_type": "code",
   "execution_count": 2,
   "id": "74bee5db",
   "metadata": {},
   "outputs": [],
   "source": [
    "df = pd.read_csv(r\"C:\\Users\\KEMENKEU\\Desktop\\OneDrive - Kemenkeu\\Sinau\\Pacmann\\Intro to Probability\\Tugas\\Project\\insurance.csv\")"
   ]
  },
  {
   "cell_type": "code",
   "execution_count": 3,
   "id": "3d51eb96",
   "metadata": {},
   "outputs": [
    {
     "data": {
      "text/html": [
       "<div>\n",
       "<style scoped>\n",
       "    .dataframe tbody tr th:only-of-type {\n",
       "        vertical-align: middle;\n",
       "    }\n",
       "\n",
       "    .dataframe tbody tr th {\n",
       "        vertical-align: top;\n",
       "    }\n",
       "\n",
       "    .dataframe thead th {\n",
       "        text-align: right;\n",
       "    }\n",
       "</style>\n",
       "<table border=\"1\" class=\"dataframe\">\n",
       "  <thead>\n",
       "    <tr style=\"text-align: right;\">\n",
       "      <th></th>\n",
       "      <th>age</th>\n",
       "      <th>sex</th>\n",
       "      <th>bmi</th>\n",
       "      <th>children</th>\n",
       "      <th>smoker</th>\n",
       "      <th>region</th>\n",
       "      <th>charges</th>\n",
       "    </tr>\n",
       "  </thead>\n",
       "  <tbody>\n",
       "    <tr>\n",
       "      <th>0</th>\n",
       "      <td>19</td>\n",
       "      <td>female</td>\n",
       "      <td>27.900</td>\n",
       "      <td>0</td>\n",
       "      <td>yes</td>\n",
       "      <td>southwest</td>\n",
       "      <td>16884.92400</td>\n",
       "    </tr>\n",
       "    <tr>\n",
       "      <th>1</th>\n",
       "      <td>18</td>\n",
       "      <td>male</td>\n",
       "      <td>33.770</td>\n",
       "      <td>1</td>\n",
       "      <td>no</td>\n",
       "      <td>southeast</td>\n",
       "      <td>1725.55230</td>\n",
       "    </tr>\n",
       "    <tr>\n",
       "      <th>2</th>\n",
       "      <td>28</td>\n",
       "      <td>male</td>\n",
       "      <td>33.000</td>\n",
       "      <td>3</td>\n",
       "      <td>no</td>\n",
       "      <td>southeast</td>\n",
       "      <td>4449.46200</td>\n",
       "    </tr>\n",
       "    <tr>\n",
       "      <th>3</th>\n",
       "      <td>33</td>\n",
       "      <td>male</td>\n",
       "      <td>22.705</td>\n",
       "      <td>0</td>\n",
       "      <td>no</td>\n",
       "      <td>northwest</td>\n",
       "      <td>21984.47061</td>\n",
       "    </tr>\n",
       "    <tr>\n",
       "      <th>4</th>\n",
       "      <td>32</td>\n",
       "      <td>male</td>\n",
       "      <td>28.880</td>\n",
       "      <td>0</td>\n",
       "      <td>no</td>\n",
       "      <td>northwest</td>\n",
       "      <td>3866.85520</td>\n",
       "    </tr>\n",
       "  </tbody>\n",
       "</table>\n",
       "</div>"
      ],
      "text/plain": [
       "   age     sex     bmi  children smoker     region      charges\n",
       "0   19  female  27.900         0    yes  southwest  16884.92400\n",
       "1   18    male  33.770         1     no  southeast   1725.55230\n",
       "2   28    male  33.000         3     no  southeast   4449.46200\n",
       "3   33    male  22.705         0     no  northwest  21984.47061\n",
       "4   32    male  28.880         0     no  northwest   3866.85520"
      ]
     },
     "execution_count": 3,
     "metadata": {},
     "output_type": "execute_result"
    }
   ],
   "source": [
    "df.head()"
   ]
  },
  {
   "cell_type": "code",
   "execution_count": 4,
   "id": "7c472716",
   "metadata": {
    "scrolled": true
   },
   "outputs": [
    {
     "name": "stdout",
     "output_type": "stream",
     "text": [
      "<class 'pandas.core.frame.DataFrame'>\n",
      "RangeIndex: 1338 entries, 0 to 1337\n",
      "Data columns (total 7 columns):\n",
      " #   Column    Non-Null Count  Dtype  \n",
      "---  ------    --------------  -----  \n",
      " 0   age       1338 non-null   int64  \n",
      " 1   sex       1338 non-null   object \n",
      " 2   bmi       1338 non-null   float64\n",
      " 3   children  1338 non-null   int64  \n",
      " 4   smoker    1338 non-null   object \n",
      " 5   region    1338 non-null   object \n",
      " 6   charges   1338 non-null   float64\n",
      "dtypes: float64(2), int64(2), object(3)\n",
      "memory usage: 73.3+ KB\n"
     ]
    }
   ],
   "source": [
    "df.info()"
   ]
  },
  {
   "cell_type": "markdown",
   "id": "22918f5f",
   "metadata": {},
   "source": [
    "##### 1. rata-rata umur pengguna"
   ]
  },
  {
   "cell_type": "code",
   "execution_count": 5,
   "id": "98060cda",
   "metadata": {},
   "outputs": [
    {
     "data": {
      "text/plain": [
       "age    39.207025\n",
       "dtype: float64"
      ]
     },
     "execution_count": 5,
     "metadata": {},
     "output_type": "execute_result"
    }
   ],
   "source": [
    "df.loc[:, [\"age\"]].mean()"
   ]
  },
  {
   "cell_type": "markdown",
   "id": "4d51bfd5",
   "metadata": {},
   "source": [
    "##### 2. rata-rata BMI dari pengguna yang merokok"
   ]
  },
  {
   "cell_type": "code",
   "execution_count": 6,
   "id": "6218d657",
   "metadata": {},
   "outputs": [
    {
     "data": {
      "text/html": [
       "<div>\n",
       "<style scoped>\n",
       "    .dataframe tbody tr th:only-of-type {\n",
       "        vertical-align: middle;\n",
       "    }\n",
       "\n",
       "    .dataframe tbody tr th {\n",
       "        vertical-align: top;\n",
       "    }\n",
       "\n",
       "    .dataframe thead th {\n",
       "        text-align: right;\n",
       "    }\n",
       "</style>\n",
       "<table border=\"1\" class=\"dataframe\">\n",
       "  <thead>\n",
       "    <tr style=\"text-align: right;\">\n",
       "      <th></th>\n",
       "      <th>bmi</th>\n",
       "      <th>smoker</th>\n",
       "    </tr>\n",
       "  </thead>\n",
       "  <tbody>\n",
       "    <tr>\n",
       "      <th>0</th>\n",
       "      <td>27.900</td>\n",
       "      <td>yes</td>\n",
       "    </tr>\n",
       "    <tr>\n",
       "      <th>11</th>\n",
       "      <td>26.290</td>\n",
       "      <td>yes</td>\n",
       "    </tr>\n",
       "    <tr>\n",
       "      <th>14</th>\n",
       "      <td>42.130</td>\n",
       "      <td>yes</td>\n",
       "    </tr>\n",
       "    <tr>\n",
       "      <th>19</th>\n",
       "      <td>35.300</td>\n",
       "      <td>yes</td>\n",
       "    </tr>\n",
       "    <tr>\n",
       "      <th>23</th>\n",
       "      <td>31.920</td>\n",
       "      <td>yes</td>\n",
       "    </tr>\n",
       "    <tr>\n",
       "      <th>...</th>\n",
       "      <td>...</td>\n",
       "      <td>...</td>\n",
       "    </tr>\n",
       "    <tr>\n",
       "      <th>1313</th>\n",
       "      <td>34.700</td>\n",
       "      <td>yes</td>\n",
       "    </tr>\n",
       "    <tr>\n",
       "      <th>1314</th>\n",
       "      <td>23.655</td>\n",
       "      <td>yes</td>\n",
       "    </tr>\n",
       "    <tr>\n",
       "      <th>1321</th>\n",
       "      <td>26.695</td>\n",
       "      <td>yes</td>\n",
       "    </tr>\n",
       "    <tr>\n",
       "      <th>1323</th>\n",
       "      <td>40.370</td>\n",
       "      <td>yes</td>\n",
       "    </tr>\n",
       "    <tr>\n",
       "      <th>1337</th>\n",
       "      <td>29.070</td>\n",
       "      <td>yes</td>\n",
       "    </tr>\n",
       "  </tbody>\n",
       "</table>\n",
       "<p>274 rows × 2 columns</p>\n",
       "</div>"
      ],
      "text/plain": [
       "         bmi smoker\n",
       "0     27.900    yes\n",
       "11    26.290    yes\n",
       "14    42.130    yes\n",
       "19    35.300    yes\n",
       "23    31.920    yes\n",
       "...      ...    ...\n",
       "1313  34.700    yes\n",
       "1314  23.655    yes\n",
       "1321  26.695    yes\n",
       "1323  40.370    yes\n",
       "1337  29.070    yes\n",
       "\n",
       "[274 rows x 2 columns]"
      ]
     },
     "execution_count": 6,
     "metadata": {},
     "output_type": "execute_result"
    }
   ],
   "source": [
    "df_bmi_rokok = df.loc[df['smoker'] == 'yes', ['bmi','smoker']]\n",
    "df_bmi_rokok"
   ]
  },
  {
   "cell_type": "code",
   "execution_count": 7,
   "id": "e4f02d7b",
   "metadata": {},
   "outputs": [
    {
     "data": {
      "text/plain": [
       "30.708448905109503"
      ]
     },
     "execution_count": 7,
     "metadata": {},
     "output_type": "execute_result"
    }
   ],
   "source": [
    "df_bmi_rokok['bmi'].mean()"
   ]
  },
  {
   "cell_type": "markdown",
   "id": "0044cf95",
   "metadata": {},
   "source": [
    "##### Apakah variansi dari data charges perokok dan non perokok sama?"
   ]
  },
  {
   "cell_type": "code",
   "execution_count": 8,
   "id": "a70441ff",
   "metadata": {},
   "outputs": [
    {
     "data": {
      "text/html": [
       "<div>\n",
       "<style scoped>\n",
       "    .dataframe tbody tr th:only-of-type {\n",
       "        vertical-align: middle;\n",
       "    }\n",
       "\n",
       "    .dataframe tbody tr th {\n",
       "        vertical-align: top;\n",
       "    }\n",
       "\n",
       "    .dataframe thead th {\n",
       "        text-align: right;\n",
       "    }\n",
       "</style>\n",
       "<table border=\"1\" class=\"dataframe\">\n",
       "  <thead>\n",
       "    <tr style=\"text-align: right;\">\n",
       "      <th></th>\n",
       "      <th>charges</th>\n",
       "    </tr>\n",
       "  </thead>\n",
       "  <tbody>\n",
       "    <tr>\n",
       "      <th>0</th>\n",
       "      <td>16884.92400</td>\n",
       "    </tr>\n",
       "    <tr>\n",
       "      <th>11</th>\n",
       "      <td>27808.72510</td>\n",
       "    </tr>\n",
       "    <tr>\n",
       "      <th>14</th>\n",
       "      <td>39611.75770</td>\n",
       "    </tr>\n",
       "    <tr>\n",
       "      <th>19</th>\n",
       "      <td>36837.46700</td>\n",
       "    </tr>\n",
       "    <tr>\n",
       "      <th>23</th>\n",
       "      <td>37701.87680</td>\n",
       "    </tr>\n",
       "    <tr>\n",
       "      <th>...</th>\n",
       "      <td>...</td>\n",
       "    </tr>\n",
       "    <tr>\n",
       "      <th>1313</th>\n",
       "      <td>36397.57600</td>\n",
       "    </tr>\n",
       "    <tr>\n",
       "      <th>1314</th>\n",
       "      <td>18765.87545</td>\n",
       "    </tr>\n",
       "    <tr>\n",
       "      <th>1321</th>\n",
       "      <td>28101.33305</td>\n",
       "    </tr>\n",
       "    <tr>\n",
       "      <th>1323</th>\n",
       "      <td>43896.37630</td>\n",
       "    </tr>\n",
       "    <tr>\n",
       "      <th>1337</th>\n",
       "      <td>29141.36030</td>\n",
       "    </tr>\n",
       "  </tbody>\n",
       "</table>\n",
       "<p>274 rows × 1 columns</p>\n",
       "</div>"
      ],
      "text/plain": [
       "          charges\n",
       "0     16884.92400\n",
       "11    27808.72510\n",
       "14    39611.75770\n",
       "19    36837.46700\n",
       "23    37701.87680\n",
       "...           ...\n",
       "1313  36397.57600\n",
       "1314  18765.87545\n",
       "1321  28101.33305\n",
       "1323  43896.37630\n",
       "1337  29141.36030\n",
       "\n",
       "[274 rows x 1 columns]"
      ]
     },
     "execution_count": 8,
     "metadata": {},
     "output_type": "execute_result"
    }
   ],
   "source": [
    "# perokok\n",
    "df_charge_rokok = df.loc[df['smoker'] == 'yes', ['charges']]\n",
    "df_charge_rokok"
   ]
  },
  {
   "cell_type": "code",
   "execution_count": 9,
   "id": "e559246a",
   "metadata": {},
   "outputs": [
    {
     "data": {
      "text/html": [
       "<div>\n",
       "<style scoped>\n",
       "    .dataframe tbody tr th:only-of-type {\n",
       "        vertical-align: middle;\n",
       "    }\n",
       "\n",
       "    .dataframe tbody tr th {\n",
       "        vertical-align: top;\n",
       "    }\n",
       "\n",
       "    .dataframe thead th {\n",
       "        text-align: right;\n",
       "    }\n",
       "</style>\n",
       "<table border=\"1\" class=\"dataframe\">\n",
       "  <thead>\n",
       "    <tr style=\"text-align: right;\">\n",
       "      <th></th>\n",
       "      <th>charges</th>\n",
       "    </tr>\n",
       "  </thead>\n",
       "  <tbody>\n",
       "    <tr>\n",
       "      <th>1</th>\n",
       "      <td>1725.55230</td>\n",
       "    </tr>\n",
       "    <tr>\n",
       "      <th>2</th>\n",
       "      <td>4449.46200</td>\n",
       "    </tr>\n",
       "    <tr>\n",
       "      <th>3</th>\n",
       "      <td>21984.47061</td>\n",
       "    </tr>\n",
       "    <tr>\n",
       "      <th>4</th>\n",
       "      <td>3866.85520</td>\n",
       "    </tr>\n",
       "    <tr>\n",
       "      <th>5</th>\n",
       "      <td>3756.62160</td>\n",
       "    </tr>\n",
       "    <tr>\n",
       "      <th>...</th>\n",
       "      <td>...</td>\n",
       "    </tr>\n",
       "    <tr>\n",
       "      <th>1332</th>\n",
       "      <td>11411.68500</td>\n",
       "    </tr>\n",
       "    <tr>\n",
       "      <th>1333</th>\n",
       "      <td>10600.54830</td>\n",
       "    </tr>\n",
       "    <tr>\n",
       "      <th>1334</th>\n",
       "      <td>2205.98080</td>\n",
       "    </tr>\n",
       "    <tr>\n",
       "      <th>1335</th>\n",
       "      <td>1629.83350</td>\n",
       "    </tr>\n",
       "    <tr>\n",
       "      <th>1336</th>\n",
       "      <td>2007.94500</td>\n",
       "    </tr>\n",
       "  </tbody>\n",
       "</table>\n",
       "<p>1064 rows × 1 columns</p>\n",
       "</div>"
      ],
      "text/plain": [
       "          charges\n",
       "1      1725.55230\n",
       "2      4449.46200\n",
       "3     21984.47061\n",
       "4      3866.85520\n",
       "5      3756.62160\n",
       "...           ...\n",
       "1332  11411.68500\n",
       "1333  10600.54830\n",
       "1334   2205.98080\n",
       "1335   1629.83350\n",
       "1336   2007.94500\n",
       "\n",
       "[1064 rows x 1 columns]"
      ]
     },
     "execution_count": 9,
     "metadata": {},
     "output_type": "execute_result"
    }
   ],
   "source": [
    "# non perokok\n",
    "df_charge_nonrokok = df.loc[df['smoker'] == 'no', ['charges']]\n",
    "df_charge_nonrokok"
   ]
  },
  {
   "cell_type": "code",
   "execution_count": 10,
   "id": "268304ab",
   "metadata": {
    "scrolled": true
   },
   "outputs": [
    {
     "name": "stdout",
     "output_type": "stream",
     "text": [
      "variance charges perokok adalah sebesar 132721153.13625304\n",
      "variance charges non perokok adalah sebesar 35891656.00316425\n"
     ]
    }
   ],
   "source": [
    "# variance charges perokok vs variance charges non rokok\n",
    "var_charges_rokok = np.var(df_charge_rokok).item()\n",
    "print('variance charges perokok adalah sebesar', var_charges_rokok)\n",
    "\n",
    "var_charges_nonrokok = np.var(df_charge_nonrokok).item()\n",
    "print('variance charges non perokok adalah sebesar', var_charges_nonrokok)\n"
   ]
  },
  {
   "cell_type": "markdown",
   "id": "1de3d6bf",
   "metadata": {},
   "source": [
    "### dapat diketahui bahwa variance charges perokok dengan variance charges non perokok besarnya tidak sama"
   ]
  },
  {
   "cell_type": "markdown",
   "id": "a3414522",
   "metadata": {},
   "source": [
    "##### umur perokok perempuan vs perokok laki-laki"
   ]
  },
  {
   "cell_type": "code",
   "execution_count": 11,
   "id": "1b53bd2c",
   "metadata": {},
   "outputs": [
    {
     "data": {
      "text/plain": [
       "age    38.608696\n",
       "dtype: float64"
      ]
     },
     "execution_count": 11,
     "metadata": {},
     "output_type": "execute_result"
    }
   ],
   "source": [
    "# rata-rata umur perokok perempuan\n",
    "df.loc[(df['smoker'] == 'yes') & (df['sex'] == 'female'), ['age']].mean()"
   ]
  },
  {
   "cell_type": "code",
   "execution_count": 12,
   "id": "a6f976cf",
   "metadata": {
    "scrolled": true
   },
   "outputs": [
    {
     "data": {
      "text/plain": [
       "age    38.446541\n",
       "dtype: float64"
      ]
     },
     "execution_count": 12,
     "metadata": {},
     "output_type": "execute_result"
    }
   ],
   "source": [
    "# rata-rata umur perokok laki-laki\n",
    "df.loc[(df['smoker'] == 'yes') & (df['sex'] == 'male'), ['age']].mean()"
   ]
  },
  {
   "cell_type": "markdown",
   "id": "edcbf3ea",
   "metadata": {},
   "source": [
    "##### rata-rata tagihan kesehatan perokok vs non perokok"
   ]
  },
  {
   "cell_type": "code",
   "execution_count": 13,
   "id": "e725b0f3",
   "metadata": {},
   "outputs": [
    {
     "data": {
      "text/plain": [
       "charges    32050.23\n",
       "dtype: float64"
      ]
     },
     "execution_count": 13,
     "metadata": {},
     "output_type": "execute_result"
    }
   ],
   "source": [
    "# rata-rata tagihan kesehatan perokok\n",
    "df_charge_rokok.mean().round(2)"
   ]
  },
  {
   "cell_type": "code",
   "execution_count": 14,
   "id": "8f54e37e",
   "metadata": {},
   "outputs": [
    {
     "data": {
      "text/plain": [
       "charges    8434.27\n",
       "dtype: float64"
      ]
     },
     "execution_count": 14,
     "metadata": {},
     "output_type": "execute_result"
    }
   ],
   "source": [
    "# rata-rata tagihan kesehatan non perokok\n",
    "df_charge_nonrokok.mean().round(2)"
   ]
  },
  {
   "cell_type": "code",
   "execution_count": 15,
   "id": "583bb39e",
   "metadata": {},
   "outputs": [
    {
     "data": {
      "text/plain": [
       "32050.23183153285"
      ]
     },
     "execution_count": 15,
     "metadata": {},
     "output_type": "execute_result"
    }
   ],
   "source": [
    "# ini kalo mau ngambil besaran rata-ratanya aja tanpa dtype nya\n",
    "df_charge_rokok.mean().item()"
   ]
  },
  {
   "cell_type": "markdown",
   "id": "4ee181b5",
   "metadata": {},
   "source": [
    "##### 8. Mana yang lebih tinggi, rata rata tagihan kesehatan perokok yang BMI nya diatas 25 atau non perokok yang BMI nya diatas 25"
   ]
  },
  {
   "cell_type": "code",
   "execution_count": 16,
   "id": "721d4b92",
   "metadata": {},
   "outputs": [
    {
     "name": "stdout",
     "output_type": "stream",
     "text": [
      "rata-rata tagihan perokok yang bmi-nya di atas 25 adalah sebesar 35116.90965694065\n"
     ]
    }
   ],
   "source": [
    "# rata-rata tagihan perokok bmi di atas 25\n",
    "print(\"rata-rata tagihan perokok yang bmi-nya di atas 25 adalah sebesar\",\n",
    "      df.loc[(df['smoker'] == 'yes') & (df['bmi'] > 25), ['charges']].mean().item())"
   ]
  },
  {
   "cell_type": "code",
   "execution_count": 17,
   "id": "4fd04bb1",
   "metadata": {},
   "outputs": [
    {
     "name": "stdout",
     "output_type": "stream",
     "text": [
      "rata-rata tagihan non perokok yang bmi-nya di atas 25 adalah sebesar 8629.589609712148\n"
     ]
    }
   ],
   "source": [
    "# rata-rata tagihan non perokok bmi di atas 25\n",
    "print(\"rata-rata tagihan non perokok yang bmi-nya di atas 25 adalah sebesar\",\n",
    "      df.loc[(df['smoker'] == 'no') & (df['bmi'] > 25), ['charges']].mean().item())"
   ]
  },
  {
   "cell_type": "markdown",
   "id": "fd3ee123",
   "metadata": {},
   "source": [
    "##### 9. BMI mana yang lebih tinggi, seseorang laki-laki atau perempuan?"
   ]
  },
  {
   "cell_type": "code",
   "execution_count": 18,
   "id": "1418be3e",
   "metadata": {},
   "outputs": [
    {
     "name": "stdout",
     "output_type": "stream",
     "text": [
      "rata-rata BMI laki-laki yakni sebesar  30.943128698224832\n",
      "rata-rata BMI perempuan yakni sebesar  30.377749244713023\n"
     ]
    }
   ],
   "source": [
    "# rata-rata BMI laki-laki\n",
    "print(\"rata-rata BMI laki-laki yakni sebesar \",df.loc[df['sex'] == 'male', ['bmi']].mean().item())\n",
    "# rata-rata BMI perempuan\n",
    "print(\"rata-rata BMI perempuan yakni sebesar \",df.loc[df['sex'] == 'female', ['bmi']].mean().item())"
   ]
  },
  {
   "cell_type": "markdown",
   "id": "0ecfb674",
   "metadata": {},
   "source": [
    "##### 10. BMI mana yang lebih tinggi, seseorang perokok atau non perokok?"
   ]
  },
  {
   "cell_type": "code",
   "execution_count": 19,
   "id": "dcf3f2fe",
   "metadata": {},
   "outputs": [
    {
     "data": {
      "text/plain": [
       "30.708448905109503"
      ]
     },
     "execution_count": 19,
     "metadata": {},
     "output_type": "execute_result"
    }
   ],
   "source": [
    "# rata-rata bmi non rokok \n",
    "df_bmi_rokok['bmi'].mean()"
   ]
  },
  {
   "cell_type": "code",
   "execution_count": 20,
   "id": "75bb9152",
   "metadata": {
    "scrolled": false
   },
   "outputs": [
    {
     "data": {
      "text/plain": [
       "30.651795112781922"
      ]
     },
     "execution_count": 20,
     "metadata": {},
     "output_type": "execute_result"
    }
   ],
   "source": [
    "# bmi non perokok\n",
    "df.loc[df['smoker'] == 'no', ['bmi']].mean().item()"
   ]
  },
  {
   "cell_type": "markdown",
   "id": "b2e0129a",
   "metadata": {},
   "source": [
    "##### 11. rata-rata BMI"
   ]
  },
  {
   "cell_type": "code",
   "execution_count": 284,
   "id": "c3b22188",
   "metadata": {
    "scrolled": true
   },
   "outputs": [
    {
     "data": {
      "text/plain": [
       "30.663396860986538"
      ]
     },
     "execution_count": 284,
     "metadata": {},
     "output_type": "execute_result"
    }
   ],
   "source": [
    "# rata-rata bmi\n",
    "df['bmi'].mean()"
   ]
  },
  {
   "cell_type": "markdown",
   "id": "aa86922e",
   "metadata": {},
   "source": [
    "##### 12. rata-rata tagihan"
   ]
  },
  {
   "cell_type": "code",
   "execution_count": 285,
   "id": "20ce89a1",
   "metadata": {},
   "outputs": [
    {
     "data": {
      "text/plain": [
       "13270.422265141257"
      ]
     },
     "execution_count": 285,
     "metadata": {},
     "output_type": "execute_result"
    }
   ],
   "source": [
    "df['charges'].mean()"
   ]
  },
  {
   "cell_type": "markdown",
   "id": "eec9e938",
   "metadata": {},
   "source": [
    "## Bagian 2"
   ]
  },
  {
   "cell_type": "markdown",
   "id": "0cfdd1b8",
   "metadata": {},
   "source": [
    "##### 1. Gender mana yang memiliki tagihan paling tinggi?"
   ]
  },
  {
   "cell_type": "code",
   "execution_count": 21,
   "id": "39b01e27",
   "metadata": {},
   "outputs": [
    {
     "data": {
      "text/html": [
       "<div>\n",
       "<style scoped>\n",
       "    .dataframe tbody tr th:only-of-type {\n",
       "        vertical-align: middle;\n",
       "    }\n",
       "\n",
       "    .dataframe tbody tr th {\n",
       "        vertical-align: top;\n",
       "    }\n",
       "\n",
       "    .dataframe thead th {\n",
       "        text-align: right;\n",
       "    }\n",
       "</style>\n",
       "<table border=\"1\" class=\"dataframe\">\n",
       "  <thead>\n",
       "    <tr style=\"text-align: right;\">\n",
       "      <th></th>\n",
       "      <th>age</th>\n",
       "      <th>sex</th>\n",
       "      <th>bmi</th>\n",
       "      <th>children</th>\n",
       "      <th>smoker</th>\n",
       "      <th>region</th>\n",
       "      <th>charges</th>\n",
       "    </tr>\n",
       "  </thead>\n",
       "  <tbody>\n",
       "    <tr>\n",
       "      <th>543</th>\n",
       "      <td>54</td>\n",
       "      <td>female</td>\n",
       "      <td>47.410</td>\n",
       "      <td>0</td>\n",
       "      <td>yes</td>\n",
       "      <td>southeast</td>\n",
       "      <td>63770.42801</td>\n",
       "    </tr>\n",
       "    <tr>\n",
       "      <th>1300</th>\n",
       "      <td>45</td>\n",
       "      <td>male</td>\n",
       "      <td>30.360</td>\n",
       "      <td>0</td>\n",
       "      <td>yes</td>\n",
       "      <td>southeast</td>\n",
       "      <td>62592.87309</td>\n",
       "    </tr>\n",
       "    <tr>\n",
       "      <th>1230</th>\n",
       "      <td>52</td>\n",
       "      <td>male</td>\n",
       "      <td>34.485</td>\n",
       "      <td>3</td>\n",
       "      <td>yes</td>\n",
       "      <td>northwest</td>\n",
       "      <td>60021.39897</td>\n",
       "    </tr>\n",
       "    <tr>\n",
       "      <th>577</th>\n",
       "      <td>31</td>\n",
       "      <td>female</td>\n",
       "      <td>38.095</td>\n",
       "      <td>1</td>\n",
       "      <td>yes</td>\n",
       "      <td>northeast</td>\n",
       "      <td>58571.07448</td>\n",
       "    </tr>\n",
       "    <tr>\n",
       "      <th>819</th>\n",
       "      <td>33</td>\n",
       "      <td>female</td>\n",
       "      <td>35.530</td>\n",
       "      <td>0</td>\n",
       "      <td>yes</td>\n",
       "      <td>northwest</td>\n",
       "      <td>55135.40209</td>\n",
       "    </tr>\n",
       "    <tr>\n",
       "      <th>...</th>\n",
       "      <td>...</td>\n",
       "      <td>...</td>\n",
       "      <td>...</td>\n",
       "      <td>...</td>\n",
       "      <td>...</td>\n",
       "      <td>...</td>\n",
       "      <td>...</td>\n",
       "    </tr>\n",
       "    <tr>\n",
       "      <th>22</th>\n",
       "      <td>18</td>\n",
       "      <td>male</td>\n",
       "      <td>34.100</td>\n",
       "      <td>0</td>\n",
       "      <td>no</td>\n",
       "      <td>southeast</td>\n",
       "      <td>1137.01100</td>\n",
       "    </tr>\n",
       "    <tr>\n",
       "      <th>663</th>\n",
       "      <td>18</td>\n",
       "      <td>male</td>\n",
       "      <td>33.660</td>\n",
       "      <td>0</td>\n",
       "      <td>no</td>\n",
       "      <td>southeast</td>\n",
       "      <td>1136.39940</td>\n",
       "    </tr>\n",
       "    <tr>\n",
       "      <th>1244</th>\n",
       "      <td>18</td>\n",
       "      <td>male</td>\n",
       "      <td>33.330</td>\n",
       "      <td>0</td>\n",
       "      <td>no</td>\n",
       "      <td>southeast</td>\n",
       "      <td>1135.94070</td>\n",
       "    </tr>\n",
       "    <tr>\n",
       "      <th>808</th>\n",
       "      <td>18</td>\n",
       "      <td>male</td>\n",
       "      <td>30.140</td>\n",
       "      <td>0</td>\n",
       "      <td>no</td>\n",
       "      <td>southeast</td>\n",
       "      <td>1131.50660</td>\n",
       "    </tr>\n",
       "    <tr>\n",
       "      <th>940</th>\n",
       "      <td>18</td>\n",
       "      <td>male</td>\n",
       "      <td>23.210</td>\n",
       "      <td>0</td>\n",
       "      <td>no</td>\n",
       "      <td>southeast</td>\n",
       "      <td>1121.87390</td>\n",
       "    </tr>\n",
       "  </tbody>\n",
       "</table>\n",
       "<p>1338 rows × 7 columns</p>\n",
       "</div>"
      ],
      "text/plain": [
       "      age     sex     bmi  children smoker     region      charges\n",
       "543    54  female  47.410         0    yes  southeast  63770.42801\n",
       "1300   45    male  30.360         0    yes  southeast  62592.87309\n",
       "1230   52    male  34.485         3    yes  northwest  60021.39897\n",
       "577    31  female  38.095         1    yes  northeast  58571.07448\n",
       "819    33  female  35.530         0    yes  northwest  55135.40209\n",
       "...   ...     ...     ...       ...    ...        ...          ...\n",
       "22     18    male  34.100         0     no  southeast   1137.01100\n",
       "663    18    male  33.660         0     no  southeast   1136.39940\n",
       "1244   18    male  33.330         0     no  southeast   1135.94070\n",
       "808    18    male  30.140         0     no  southeast   1131.50660\n",
       "940    18    male  23.210         0     no  southeast   1121.87390\n",
       "\n",
       "[1338 rows x 7 columns]"
      ]
     },
     "execution_count": 21,
     "metadata": {},
     "output_type": "execute_result"
    }
   ],
   "source": [
    "df.sort_values(by = 'charges', ascending = False)"
   ]
  },
  {
   "cell_type": "markdown",
   "id": "573bd044",
   "metadata": {},
   "source": [
    "tagihan paling tinggi ada di perempuan"
   ]
  },
  {
   "cell_type": "markdown",
   "id": "a9dca571",
   "metadata": {},
   "source": [
    "##### Distribusi peluang tagihan di tiap-tiap region"
   ]
  },
  {
   "cell_type": "code",
   "execution_count": 22,
   "id": "52721fe3",
   "metadata": {
    "scrolled": true
   },
   "outputs": [
    {
     "data": {
      "text/plain": [
       "array(['southwest', 'southeast', 'northwest', 'northeast'], dtype=object)"
      ]
     },
     "execution_count": 22,
     "metadata": {},
     "output_type": "execute_result"
    }
   ],
   "source": [
    "df['region'].unique()"
   ]
  },
  {
   "cell_type": "code",
   "execution_count": 23,
   "id": "81921f18",
   "metadata": {},
   "outputs": [],
   "source": [
    "# total charges\n",
    "total_charges = df['charges'].sum()"
   ]
  },
  {
   "cell_type": "code",
   "execution_count": 24,
   "id": "1ebdad5f",
   "metadata": {},
   "outputs": [],
   "source": [
    "# membuat variabel peluang tagihan per region\n",
    "sw = df.loc[df['region'] == 'southwest', ['charges']].sum().item()/total_charges \n",
    "se = df.loc[df['region'] == 'southeast', ['charges']].sum().item()/total_charges\n",
    "nw = df.loc[df['region'] == 'northwest', ['charges']].sum().item()/total_charges\n",
    "ne = df.loc[df['region'] == 'northeast', ['charges']].sum().item()/total_charges\n"
   ]
  },
  {
   "cell_type": "code",
   "execution_count": 25,
   "id": "579d2c0a",
   "metadata": {},
   "outputs": [
    {
     "data": {
      "text/plain": [
       "1.0"
      ]
     },
     "execution_count": 25,
     "metadata": {},
     "output_type": "execute_result"
    }
   ],
   "source": [
    "# cek apakah total peluang tagihan per region = 1\n",
    "sw+se+nw+ne"
   ]
  },
  {
   "cell_type": "code",
   "execution_count": 26,
   "id": "41038e38",
   "metadata": {},
   "outputs": [
    {
     "data": {
      "text/html": [
       "<div>\n",
       "<style scoped>\n",
       "    .dataframe tbody tr th:only-of-type {\n",
       "        vertical-align: middle;\n",
       "    }\n",
       "\n",
       "    .dataframe tbody tr th {\n",
       "        vertical-align: top;\n",
       "    }\n",
       "\n",
       "    .dataframe thead th {\n",
       "        text-align: right;\n",
       "    }\n",
       "</style>\n",
       "<table border=\"1\" class=\"dataframe\">\n",
       "  <thead>\n",
       "    <tr style=\"text-align: right;\">\n",
       "      <th></th>\n",
       "      <th>region</th>\n",
       "      <th>probability</th>\n",
       "    </tr>\n",
       "  </thead>\n",
       "  <tbody>\n",
       "    <tr>\n",
       "      <th>0</th>\n",
       "      <td>southwest</td>\n",
       "      <td>0.225997</td>\n",
       "    </tr>\n",
       "    <tr>\n",
       "      <th>1</th>\n",
       "      <td>southeast</td>\n",
       "      <td>0.302081</td>\n",
       "    </tr>\n",
       "    <tr>\n",
       "      <th>2</th>\n",
       "      <td>northwest</td>\n",
       "      <td>0.227289</td>\n",
       "    </tr>\n",
       "    <tr>\n",
       "      <th>3</th>\n",
       "      <td>northeast</td>\n",
       "      <td>0.244633</td>\n",
       "    </tr>\n",
       "  </tbody>\n",
       "</table>\n",
       "</div>"
      ],
      "text/plain": [
       "      region  probability\n",
       "0  southwest     0.225997\n",
       "1  southeast     0.302081\n",
       "2  northwest     0.227289\n",
       "3  northeast     0.244633"
      ]
     },
     "execution_count": 26,
     "metadata": {},
     "output_type": "execute_result"
    }
   ],
   "source": [
    "d = {'region': ['southwest', 'southeast', 'northwest', 'northeast'], 'probability': [sw, se, nw, ne]}\n",
    "prob_charges = pd.DataFrame(data=d)\n",
    "prob_charges"
   ]
  },
  {
   "cell_type": "code",
   "execution_count": 27,
   "id": "e3043d2c",
   "metadata": {},
   "outputs": [
    {
     "data": {
      "text/plain": [
       "<AxesSubplot:xlabel='region', ylabel='probability'>"
      ]
     },
     "execution_count": 27,
     "metadata": {},
     "output_type": "execute_result"
    },
    {
     "data": {
      "image/png": "[encoded data removed]",
      "text/plain": [
       "<Figure size 432x288 with 1 Axes>"
      ]
     },
     "metadata": {
      "needs_background": "light"
     },
     "output_type": "display_data"
    }
   ],
   "source": [
    "sns.barplot(data=prob_charges, x=\"region\", y=\"probability\", color = '#69d')"
   ]
  },
  {
   "cell_type": "markdown",
   "id": "7e42b1ed",
   "metadata": {},
   "source": [
    "##### Apakah setiap region memiliki proporsi data banyak orang yang sama?"
   ]
  },
  {
   "cell_type": "code",
   "execution_count": 28,
   "id": "9b53a3c7",
   "metadata": {},
   "outputs": [
    {
     "name": "stdout",
     "output_type": "stream",
     "text": [
      "<class 'pandas.core.frame.DataFrame'>\n",
      "RangeIndex: 1338 entries, 0 to 1337\n",
      "Data columns (total 7 columns):\n",
      " #   Column    Non-Null Count  Dtype  \n",
      "---  ------    --------------  -----  \n",
      " 0   age       1338 non-null   int64  \n",
      " 1   sex       1338 non-null   object \n",
      " 2   bmi       1338 non-null   float64\n",
      " 3   children  1338 non-null   int64  \n",
      " 4   smoker    1338 non-null   object \n",
      " 5   region    1338 non-null   object \n",
      " 6   charges   1338 non-null   float64\n",
      "dtypes: float64(2), int64(2), object(3)\n",
      "memory usage: 73.3+ KB\n"
     ]
    }
   ],
   "source": [
    "df.info()"
   ]
  },
  {
   "cell_type": "code",
   "execution_count": 29,
   "id": "3fb3064e",
   "metadata": {},
   "outputs": [],
   "source": [
    "# menghitung proporsi pengguna per region\n",
    "prop_sw = df.loc[df['region'] == 'southwest', ['region']].count().item()/1338\n",
    "prop_se = df.loc[df['region'] == 'southeast', ['region']].count().item()/1338\n",
    "prop_nw = df.loc[df['region'] == 'northwest', ['region']].count().item()/1338\n",
    "prop_ne = df.loc[df['region'] == 'northeast', ['region']].count().item()/1338"
   ]
  },
  {
   "cell_type": "code",
   "execution_count": 30,
   "id": "5ba84e59",
   "metadata": {},
   "outputs": [
    {
     "data": {
      "text/html": [
       "<div>\n",
       "<style scoped>\n",
       "    .dataframe tbody tr th:only-of-type {\n",
       "        vertical-align: middle;\n",
       "    }\n",
       "\n",
       "    .dataframe tbody tr th {\n",
       "        vertical-align: top;\n",
       "    }\n",
       "\n",
       "    .dataframe thead th {\n",
       "        text-align: right;\n",
       "    }\n",
       "</style>\n",
       "<table border=\"1\" class=\"dataframe\">\n",
       "  <thead>\n",
       "    <tr style=\"text-align: right;\">\n",
       "      <th></th>\n",
       "      <th>region</th>\n",
       "      <th>proporsi</th>\n",
       "    </tr>\n",
       "  </thead>\n",
       "  <tbody>\n",
       "    <tr>\n",
       "      <th>0</th>\n",
       "      <td>southwest</td>\n",
       "      <td>0.242900</td>\n",
       "    </tr>\n",
       "    <tr>\n",
       "      <th>1</th>\n",
       "      <td>southeast</td>\n",
       "      <td>0.272048</td>\n",
       "    </tr>\n",
       "    <tr>\n",
       "      <th>2</th>\n",
       "      <td>northwest</td>\n",
       "      <td>0.242900</td>\n",
       "    </tr>\n",
       "    <tr>\n",
       "      <th>3</th>\n",
       "      <td>northeast</td>\n",
       "      <td>0.242152</td>\n",
       "    </tr>\n",
       "  </tbody>\n",
       "</table>\n",
       "</div>"
      ],
      "text/plain": [
       "      region  proporsi\n",
       "0  southwest  0.242900\n",
       "1  southeast  0.272048\n",
       "2  northwest  0.242900\n",
       "3  northeast  0.242152"
      ]
     },
     "execution_count": 30,
     "metadata": {},
     "output_type": "execute_result"
    }
   ],
   "source": [
    "prop = {'region': ['southwest', 'southeast', 'northwest', 'northeast'], 'proporsi': [prop_sw, prop_se, prop_nw, prop_ne]}\n",
    "proporsi = pd.DataFrame(data=prop)\n",
    "proporsi"
   ]
  },
  {
   "cell_type": "code",
   "execution_count": 31,
   "id": "5697a7e8",
   "metadata": {},
   "outputs": [
    {
     "data": {
      "text/plain": [
       "<AxesSubplot:xlabel='region', ylabel='proporsi'>"
      ]
     },
     "execution_count": 31,
     "metadata": {},
     "output_type": "execute_result"
    },
    {
     "data": {
      "image/png": "[encoded data removed]",
      "text/plain": [
       "<Figure size 432x288 with 1 Axes>"
      ]
     },
     "metadata": {
      "needs_background": "light"
     },
     "output_type": "display_data"
    }
   ],
   "source": [
    "sns.barplot(data = proporsi, x= 'region', y= 'proporsi', color = '#69d' )"
   ]
  },
  {
   "cell_type": "markdown",
   "id": "b43bddfc",
   "metadata": {},
   "source": [
    "##### Mana yang lebih tinggi proporsi perokok atau non perokok?"
   ]
  },
  {
   "cell_type": "code",
   "execution_count": 32,
   "id": "0a7567f7",
   "metadata": {},
   "outputs": [],
   "source": [
    "prop_rokok = df.loc[df['smoker'] == 'yes', ['smoker']].count().item()/1338\n",
    "prop_nonrokok = df.loc[df['smoker'] == 'no', ['smoker']].count().item()/1338"
   ]
  },
  {
   "cell_type": "code",
   "execution_count": 33,
   "id": "9f288dab",
   "metadata": {},
   "outputs": [
    {
     "data": {
      "text/html": [
       "<div>\n",
       "<style scoped>\n",
       "    .dataframe tbody tr th:only-of-type {\n",
       "        vertical-align: middle;\n",
       "    }\n",
       "\n",
       "    .dataframe tbody tr th {\n",
       "        vertical-align: top;\n",
       "    }\n",
       "\n",
       "    .dataframe thead th {\n",
       "        text-align: right;\n",
       "    }\n",
       "</style>\n",
       "<table border=\"1\" class=\"dataframe\">\n",
       "  <thead>\n",
       "    <tr style=\"text-align: right;\">\n",
       "      <th></th>\n",
       "      <th>pilihan</th>\n",
       "      <th>proporsi</th>\n",
       "    </tr>\n",
       "  </thead>\n",
       "  <tbody>\n",
       "    <tr>\n",
       "      <th>0</th>\n",
       "      <td>perokok</td>\n",
       "      <td>0.204783</td>\n",
       "    </tr>\n",
       "    <tr>\n",
       "      <th>1</th>\n",
       "      <td>non perokok</td>\n",
       "      <td>0.795217</td>\n",
       "    </tr>\n",
       "  </tbody>\n",
       "</table>\n",
       "</div>"
      ],
      "text/plain": [
       "       pilihan  proporsi\n",
       "0      perokok  0.204783\n",
       "1  non perokok  0.795217"
      ]
     },
     "execution_count": 33,
     "metadata": {},
     "output_type": "execute_result"
    }
   ],
   "source": [
    "data_rokok = {'pilihan': ['perokok', 'non perokok'], 'proporsi': [prop_rokok, prop_nonrokok]}\n",
    "proporsi_rokok = pd.DataFrame(data=data_rokok)\n",
    "proporsi_rokok"
   ]
  },
  {
   "cell_type": "code",
   "execution_count": 34,
   "id": "9fbfbcb8",
   "metadata": {},
   "outputs": [
    {
     "data": {
      "text/plain": [
       "<AxesSubplot:xlabel='pilihan', ylabel='proporsi'>"
      ]
     },
     "execution_count": 34,
     "metadata": {},
     "output_type": "execute_result"
    },
    {
     "data": {
      "image/png": "[encoded data removed]",
      "text/plain": [
       "<Figure size 432x288 with 1 Axes>"
      ]
     },
     "metadata": {
      "needs_background": "light"
     },
     "output_type": "display_data"
    }
   ],
   "source": [
    "sns.barplot(data = proporsi_rokok, x= 'pilihan', y= 'proporsi', color = '#69d' )"
   ]
  },
  {
   "cell_type": "markdown",
   "id": "7ed5229b",
   "metadata": {},
   "source": [
    "##### Berapa peluang seseorang tersebut adalah perempuan diketahui dia adalah perokok?"
   ]
  },
  {
   "cell_type": "code",
   "execution_count": 35,
   "id": "ae450e6b",
   "metadata": {},
   "outputs": [],
   "source": [
    "n_p_dan_rokok = df.loc[(df['sex'] == 'female') & (df['smoker'] == 'yes'), ['smoker']].count().item()"
   ]
  },
  {
   "cell_type": "code",
   "execution_count": 36,
   "id": "5439c17d",
   "metadata": {},
   "outputs": [],
   "source": [
    "n_rokok = df.loc[df['smoker'] == 'yes',['smoker']].count().item()"
   ]
  },
  {
   "cell_type": "code",
   "execution_count": 37,
   "id": "71a7185f",
   "metadata": {},
   "outputs": [
    {
     "name": "stdout",
     "output_type": "stream",
     "text": [
      "peluang seseorang tersebut adalah perempuan jika diketahui dia adalah perokok adalah sebesar  0.4197080291970803\n"
     ]
    }
   ],
   "source": [
    "# peluang seseorang tersebut adalah perempuan diketahui dia adalah perokok?\n",
    "print(\"peluang seseorang tersebut adalah perempuan jika diketahui dia adalah perokok adalah sebesar \", n_p_dan_rokok/n_rokok)"
   ]
  },
  {
   "cell_type": "markdown",
   "id": "36e09592",
   "metadata": {},
   "source": [
    "##### Berapa peluang seseorang tersebut adalah laki-laki diketahui dia adalah perokok?"
   ]
  },
  {
   "cell_type": "code",
   "execution_count": 38,
   "id": "55b61a31",
   "metadata": {},
   "outputs": [],
   "source": [
    "n_l_dan_rokok = df.loc[(df['sex'] == 'male') & (df['smoker'] == 'yes'), ['smoker']].count().item()"
   ]
  },
  {
   "cell_type": "code",
   "execution_count": 39,
   "id": "7a9a64f9",
   "metadata": {},
   "outputs": [
    {
     "name": "stdout",
     "output_type": "stream",
     "text": [
      "peluang seseorang tersebut adalah laki-laki jika diketahui dia adalah perokok adalah sebesar  0.5802919708029197\n"
     ]
    }
   ],
   "source": [
    "# peluang seseorang tersebut adalah laki-laki diketahui dia adalah perokok?\n",
    "print(\"peluang seseorang tersebut adalah laki-laki jika diketahui dia adalah perokok adalah sebesar \", n_l_dan_rokok/n_rokok)"
   ]
  },
  {
   "cell_type": "markdown",
   "id": "6da6d789",
   "metadata": {},
   "source": [
    "##### Bagaimana bentuk distribusi tagihan dari tiap-tiap region?"
   ]
  },
  {
   "cell_type": "code",
   "execution_count": 40,
   "id": "a17a0a1b",
   "metadata": {},
   "outputs": [],
   "source": [
    "# membuat variable untuk menyimpan charges per region \n",
    "sw_charges = df.loc[df['region'] == 'southwest', ['charges']]\n",
    "se_charges = df.loc[df['region'] == 'southeast', ['charges']]\n",
    "nw_charges = df.loc[df['region'] == 'northwest', ['charges']]\n",
    "ne_charges = df.loc[df['region'] == 'northeast', ['charges']]"
   ]
  },
  {
   "cell_type": "code",
   "execution_count": 41,
   "id": "86d7d194",
   "metadata": {},
   "outputs": [
    {
     "data": {
      "image/png": "[encoded data removed]",
      "text/plain": [
       "<Figure size 504x1008 with 4 Axes>"
      ]
     },
     "metadata": {
      "needs_background": "light"
     },
     "output_type": "display_data"
    }
   ],
   "source": [
    "fig, axs = plt.subplots(2, 2, figsize=(7, 14))\n",
    "\n",
    "sns.histplot(data=sw_charges, x=\"charges\", kde=True, color=\"skyblue\", ax=axs[1, 1]).title.set_text('southwest')\n",
    "sns.histplot(data=se_charges, x=\"charges\", kde=True, color=\"olive\", ax=axs[1, 0]).title.set_text('southeast')\n",
    "sns.histplot(data=nw_charges, x=\"charges\", kde=True, color=\"gold\", ax=axs[0, 1]).title.set_text('northwest')\n",
    "sns.histplot(data=ne_charges, x=\"charges\", kde=True, color=\"teal\", ax=axs[0, 0]).title.set_text('northeast')\n",
    "\n",
    "plt.show()"
   ]
  },
  {
   "cell_type": "code",
   "execution_count": 42,
   "id": "29225908",
   "metadata": {},
   "outputs": [
    {
     "data": {
      "text/plain": [
       "array([[<AxesSubplot:title={'center':'northeast'}>,\n",
       "        <AxesSubplot:title={'center':'northwest'}>],\n",
       "       [<AxesSubplot:title={'center':'southeast'}>,\n",
       "        <AxesSubplot:title={'center':'southwest'}>]], dtype=object)"
      ]
     },
     "execution_count": 42,
     "metadata": {},
     "output_type": "execute_result"
    },
    {
     "data": {
      "image/png": "[encoded data removed]",
      "text/plain": [
       "<Figure size 432x288 with 4 Axes>"
      ]
     },
     "metadata": {
      "needs_background": "light"
     },
     "output_type": "display_data"
    }
   ],
   "source": [
    "df['charges'].hist(by=df['region'], bins= 17)"
   ]
  },
  {
   "cell_type": "markdown",
   "id": "c35b8338",
   "metadata": {},
   "source": [
    "## Bagian 3"
   ]
  },
  {
   "cell_type": "markdown",
   "id": "5916f195",
   "metadata": {},
   "source": [
    "##### Mencari kemungkin terjadi, seorang perokok dengan BMI diatas 25 akan mendapatkan tagihan kesehatan di atas 16.700."
   ]
  },
  {
   "cell_type": "code",
   "execution_count": 44,
   "id": "f64b8200",
   "metadata": {
    "scrolled": true
   },
   "outputs": [
    {
     "data": {
      "text/html": [
       "<div>\n",
       "<style scoped>\n",
       "    .dataframe tbody tr th:only-of-type {\n",
       "        vertical-align: middle;\n",
       "    }\n",
       "\n",
       "    .dataframe tbody tr th {\n",
       "        vertical-align: top;\n",
       "    }\n",
       "\n",
       "    .dataframe thead th {\n",
       "        text-align: right;\n",
       "    }\n",
       "</style>\n",
       "<table border=\"1\" class=\"dataframe\">\n",
       "  <thead>\n",
       "    <tr style=\"text-align: right;\">\n",
       "      <th></th>\n",
       "      <th>charges</th>\n",
       "      <th>smoker</th>\n",
       "      <th>bmi</th>\n",
       "    </tr>\n",
       "  </thead>\n",
       "  <tbody>\n",
       "    <tr>\n",
       "      <th>0</th>\n",
       "      <td>16884.92400</td>\n",
       "      <td>yes</td>\n",
       "      <td>27.900</td>\n",
       "    </tr>\n",
       "    <tr>\n",
       "      <th>11</th>\n",
       "      <td>27808.72510</td>\n",
       "      <td>yes</td>\n",
       "      <td>26.290</td>\n",
       "    </tr>\n",
       "    <tr>\n",
       "      <th>14</th>\n",
       "      <td>39611.75770</td>\n",
       "      <td>yes</td>\n",
       "      <td>42.130</td>\n",
       "    </tr>\n",
       "    <tr>\n",
       "      <th>19</th>\n",
       "      <td>36837.46700</td>\n",
       "      <td>yes</td>\n",
       "      <td>35.300</td>\n",
       "    </tr>\n",
       "    <tr>\n",
       "      <th>23</th>\n",
       "      <td>37701.87680</td>\n",
       "      <td>yes</td>\n",
       "      <td>31.920</td>\n",
       "    </tr>\n",
       "    <tr>\n",
       "      <th>...</th>\n",
       "      <td>...</td>\n",
       "      <td>...</td>\n",
       "      <td>...</td>\n",
       "    </tr>\n",
       "    <tr>\n",
       "      <th>1308</th>\n",
       "      <td>33900.65300</td>\n",
       "      <td>yes</td>\n",
       "      <td>30.200</td>\n",
       "    </tr>\n",
       "    <tr>\n",
       "      <th>1313</th>\n",
       "      <td>36397.57600</td>\n",
       "      <td>yes</td>\n",
       "      <td>34.700</td>\n",
       "    </tr>\n",
       "    <tr>\n",
       "      <th>1321</th>\n",
       "      <td>28101.33305</td>\n",
       "      <td>yes</td>\n",
       "      <td>26.695</td>\n",
       "    </tr>\n",
       "    <tr>\n",
       "      <th>1323</th>\n",
       "      <td>43896.37630</td>\n",
       "      <td>yes</td>\n",
       "      <td>40.370</td>\n",
       "    </tr>\n",
       "    <tr>\n",
       "      <th>1337</th>\n",
       "      <td>29141.36030</td>\n",
       "      <td>yes</td>\n",
       "      <td>29.070</td>\n",
       "    </tr>\n",
       "  </tbody>\n",
       "</table>\n",
       "<p>219 rows × 3 columns</p>\n",
       "</div>"
      ],
      "text/plain": [
       "          charges smoker     bmi\n",
       "0     16884.92400    yes  27.900\n",
       "11    27808.72510    yes  26.290\n",
       "14    39611.75770    yes  42.130\n",
       "19    36837.46700    yes  35.300\n",
       "23    37701.87680    yes  31.920\n",
       "...           ...    ...     ...\n",
       "1308  33900.65300    yes  30.200\n",
       "1313  36397.57600    yes  34.700\n",
       "1321  28101.33305    yes  26.695\n",
       "1323  43896.37630    yes  40.370\n",
       "1337  29141.36030    yes  29.070\n",
       "\n",
       "[219 rows x 3 columns]"
      ]
     },
     "execution_count": 44,
     "metadata": {},
     "output_type": "execute_result"
    }
   ],
   "source": [
    "# filter data perokok BMI >25\n",
    "df_rokok_bmi25 = df.loc[(df['smoker'] == 'yes') & (df['bmi'] > 25), ['charges', 'smoker','bmi']]\n",
    "df_rokok_bmi25 "
   ]
  },
  {
   "cell_type": "code",
   "execution_count": 45,
   "id": "cc593038",
   "metadata": {},
   "outputs": [
    {
     "data": {
      "text/plain": [
       "<AxesSubplot:xlabel='charges', ylabel='Count'>"
      ]
     },
     "execution_count": 45,
     "metadata": {},
     "output_type": "execute_result"
    },
    {
     "data": {
      "image/png": "[encoded data removed]",
      "text/plain": [
       "<Figure size 432x288 with 1 Axes>"
      ]
     },
     "metadata": {
      "needs_background": "light"
     },
     "output_type": "display_data"
    }
   ],
   "source": [
    "sns.histplot(data= df_rokok_bmi25['charges'], kde='True')"
   ]
  },
  {
   "cell_type": "code",
   "execution_count": 46,
   "id": "e94042bb",
   "metadata": {},
   "outputs": [
    {
     "data": {
      "text/plain": [
       "35116.90965694065"
      ]
     },
     "execution_count": 46,
     "metadata": {},
     "output_type": "execute_result"
    }
   ],
   "source": [
    "# mencari rata-rata tagihan dari data yang sudah difilter\n",
    "df_rokok_bmi25_mean = df_rokok_bmi25['charges'].mean() \n",
    "df_rokok_bmi25_mean"
   ]
  },
  {
   "cell_type": "code",
   "execution_count": 47,
   "id": "5bdbf224",
   "metadata": {},
   "outputs": [
    {
     "data": {
      "text/plain": [
       "10678.098166346497"
      ]
     },
     "execution_count": 47,
     "metadata": {},
     "output_type": "execute_result"
    }
   ],
   "source": [
    "#mendapatkan nilai standar deviasi tagihan dari data yang sudah difilter\n",
    "std_rokok_bmi25 = np.std(df_rokok_bmi25['charges'])\n",
    "std_rokok_bmi25"
   ]
  },
  {
   "cell_type": "code",
   "execution_count": 48,
   "id": "58c70b28",
   "metadata": {},
   "outputs": [],
   "source": [
    "#nilai charges yang ingin dihitung\n",
    "x = 16700"
   ]
  },
  {
   "cell_type": "code",
   "execution_count": 49,
   "id": "75f0d937",
   "metadata": {},
   "outputs": [
    {
     "data": {
      "text/plain": [
       "-1.7247368744917595"
      ]
     },
     "execution_count": 49,
     "metadata": {},
     "output_type": "execute_result"
    }
   ],
   "source": [
    "#menghitung standarisasi data\n",
    "Z = (x-df_rokok_bmi25_mean)/std_rokok_bmi25\n",
    "Z"
   ]
  },
  {
   "cell_type": "code",
   "execution_count": 50,
   "id": "1490ac80",
   "metadata": {},
   "outputs": [
    {
     "name": "stdout",
     "output_type": "stream",
     "text": [
      "kemungkin terjadi seorang perokok dengan BMI diatas 25 akan mendapatkan tagihan kesehatan di atas 16.700 adalah sebesar 0.9577125487589742%\n"
     ]
    }
   ],
   "source": [
    "#mendapatkan nilai CDF diatas nilai X\n",
    "p = 1-norm.cdf(Z)\n",
    "\n",
    "print(f'kemungkin terjadi seorang perokok dengan BMI diatas 25 akan mendapatkan tagihan kesehatan di atas 16.700 adalah sebesar {p}%')"
   ]
  },
  {
   "cell_type": "code",
   "execution_count": 51,
   "id": "91eb8469",
   "metadata": {},
   "outputs": [
    {
     "data": {
      "text/plain": [
       "0.9577125487589742"
      ]
     },
     "execution_count": 51,
     "metadata": {},
     "output_type": "execute_result"
    }
   ],
   "source": [
    "# menggunakan syntax dari scipy untuk menghitung cdf\n",
    "1-stats.norm.cdf(16700, loc= df_rokok_bmi25_mean, scale = std_rokok_bmi25)"
   ]
  },
  {
   "cell_type": "markdown",
   "id": "7de06a41",
   "metadata": {},
   "source": [
    "##### Berapa peluang seseorang acak tagihan kesehatannya diatas 16.7k diketahui dia adalah perokok"
   ]
  },
  {
   "cell_type": "code",
   "execution_count": 52,
   "id": "69e334bf",
   "metadata": {},
   "outputs": [
    {
     "data": {
      "text/html": [
       "<div>\n",
       "<style scoped>\n",
       "    .dataframe tbody tr th:only-of-type {\n",
       "        vertical-align: middle;\n",
       "    }\n",
       "\n",
       "    .dataframe tbody tr th {\n",
       "        vertical-align: top;\n",
       "    }\n",
       "\n",
       "    .dataframe thead th {\n",
       "        text-align: right;\n",
       "    }\n",
       "</style>\n",
       "<table border=\"1\" class=\"dataframe\">\n",
       "  <thead>\n",
       "    <tr style=\"text-align: right;\">\n",
       "      <th></th>\n",
       "      <th>age</th>\n",
       "      <th>sex</th>\n",
       "      <th>bmi</th>\n",
       "      <th>children</th>\n",
       "      <th>smoker</th>\n",
       "      <th>region</th>\n",
       "      <th>charges</th>\n",
       "    </tr>\n",
       "  </thead>\n",
       "  <tbody>\n",
       "    <tr>\n",
       "      <th>0</th>\n",
       "      <td>19</td>\n",
       "      <td>female</td>\n",
       "      <td>27.900</td>\n",
       "      <td>0</td>\n",
       "      <td>yes</td>\n",
       "      <td>southwest</td>\n",
       "      <td>16884.92400</td>\n",
       "    </tr>\n",
       "    <tr>\n",
       "      <th>11</th>\n",
       "      <td>62</td>\n",
       "      <td>female</td>\n",
       "      <td>26.290</td>\n",
       "      <td>0</td>\n",
       "      <td>yes</td>\n",
       "      <td>southeast</td>\n",
       "      <td>27808.72510</td>\n",
       "    </tr>\n",
       "    <tr>\n",
       "      <th>14</th>\n",
       "      <td>27</td>\n",
       "      <td>male</td>\n",
       "      <td>42.130</td>\n",
       "      <td>0</td>\n",
       "      <td>yes</td>\n",
       "      <td>southeast</td>\n",
       "      <td>39611.75770</td>\n",
       "    </tr>\n",
       "    <tr>\n",
       "      <th>19</th>\n",
       "      <td>30</td>\n",
       "      <td>male</td>\n",
       "      <td>35.300</td>\n",
       "      <td>0</td>\n",
       "      <td>yes</td>\n",
       "      <td>southwest</td>\n",
       "      <td>36837.46700</td>\n",
       "    </tr>\n",
       "    <tr>\n",
       "      <th>23</th>\n",
       "      <td>34</td>\n",
       "      <td>female</td>\n",
       "      <td>31.920</td>\n",
       "      <td>1</td>\n",
       "      <td>yes</td>\n",
       "      <td>northeast</td>\n",
       "      <td>37701.87680</td>\n",
       "    </tr>\n",
       "    <tr>\n",
       "      <th>...</th>\n",
       "      <td>...</td>\n",
       "      <td>...</td>\n",
       "      <td>...</td>\n",
       "      <td>...</td>\n",
       "      <td>...</td>\n",
       "      <td>...</td>\n",
       "      <td>...</td>\n",
       "    </tr>\n",
       "    <tr>\n",
       "      <th>1313</th>\n",
       "      <td>19</td>\n",
       "      <td>female</td>\n",
       "      <td>34.700</td>\n",
       "      <td>2</td>\n",
       "      <td>yes</td>\n",
       "      <td>southwest</td>\n",
       "      <td>36397.57600</td>\n",
       "    </tr>\n",
       "    <tr>\n",
       "      <th>1314</th>\n",
       "      <td>30</td>\n",
       "      <td>female</td>\n",
       "      <td>23.655</td>\n",
       "      <td>3</td>\n",
       "      <td>yes</td>\n",
       "      <td>northwest</td>\n",
       "      <td>18765.87545</td>\n",
       "    </tr>\n",
       "    <tr>\n",
       "      <th>1321</th>\n",
       "      <td>62</td>\n",
       "      <td>male</td>\n",
       "      <td>26.695</td>\n",
       "      <td>0</td>\n",
       "      <td>yes</td>\n",
       "      <td>northeast</td>\n",
       "      <td>28101.33305</td>\n",
       "    </tr>\n",
       "    <tr>\n",
       "      <th>1323</th>\n",
       "      <td>42</td>\n",
       "      <td>female</td>\n",
       "      <td>40.370</td>\n",
       "      <td>2</td>\n",
       "      <td>yes</td>\n",
       "      <td>southeast</td>\n",
       "      <td>43896.37630</td>\n",
       "    </tr>\n",
       "    <tr>\n",
       "      <th>1337</th>\n",
       "      <td>61</td>\n",
       "      <td>female</td>\n",
       "      <td>29.070</td>\n",
       "      <td>0</td>\n",
       "      <td>yes</td>\n",
       "      <td>northwest</td>\n",
       "      <td>29141.36030</td>\n",
       "    </tr>\n",
       "  </tbody>\n",
       "</table>\n",
       "<p>274 rows × 7 columns</p>\n",
       "</div>"
      ],
      "text/plain": [
       "      age     sex     bmi  children smoker     region      charges\n",
       "0      19  female  27.900         0    yes  southwest  16884.92400\n",
       "11     62  female  26.290         0    yes  southeast  27808.72510\n",
       "14     27    male  42.130         0    yes  southeast  39611.75770\n",
       "19     30    male  35.300         0    yes  southwest  36837.46700\n",
       "23     34  female  31.920         1    yes  northeast  37701.87680\n",
       "...   ...     ...     ...       ...    ...        ...          ...\n",
       "1313   19  female  34.700         2    yes  southwest  36397.57600\n",
       "1314   30  female  23.655         3    yes  northwest  18765.87545\n",
       "1321   62    male  26.695         0    yes  northeast  28101.33305\n",
       "1323   42  female  40.370         2    yes  southeast  43896.37630\n",
       "1337   61  female  29.070         0    yes  northwest  29141.36030\n",
       "\n",
       "[274 rows x 7 columns]"
      ]
     },
     "execution_count": 52,
     "metadata": {},
     "output_type": "execute_result"
    }
   ],
   "source": [
    "# memfilter perokok\n",
    "df_rokok = df.loc[df['smoker'] == 'yes']\n",
    "df_rokok"
   ]
  },
  {
   "cell_type": "code",
   "execution_count": 53,
   "id": "536862fa",
   "metadata": {},
   "outputs": [
    {
     "data": {
      "text/plain": [
       "<AxesSubplot:xlabel='charges', ylabel='Count'>"
      ]
     },
     "execution_count": 53,
     "metadata": {},
     "output_type": "execute_result"
    },
    {
     "data": {
      "image/png": "[encoded data removed]",
      "text/plain": [
       "<Figure size 432x288 with 1 Axes>"
      ]
     },
     "metadata": {
      "needs_background": "light"
     },
     "output_type": "display_data"
    }
   ],
   "source": [
    "sns.histplot(data=df_rokok['charges'], kde = 'True')"
   ]
  },
  {
   "cell_type": "code",
   "execution_count": 54,
   "id": "980ce0c0",
   "metadata": {},
   "outputs": [
    {
     "name": "stdout",
     "output_type": "stream",
     "text": [
      "rata-rata dari tagihan perokok adalah sebesar  32050.23183153285\n",
      "standar deviasi dari tagihan perokok adalah sebesar  11520.466706529429\n",
      "nilai Z adalah sebesar  -1.3324314216222535\n",
      "peluang seseorang acak tagihan kesehatannya diatas 16.7k diketahui dia adalah perokok adalah sebesar  0.9086407687093684\n"
     ]
    }
   ],
   "source": [
    "# mencari rata=rata charges dari data yang sudah difilter\n",
    "df_rokok_mean = df_rokok['charges'].mean()\n",
    "print('rata-rata dari tagihan perokok adalah sebesar ', df_rokok_mean)\n",
    "\n",
    "# mencari standar deviasi dari data yang sudah difilter\n",
    "std_df_rokok = np.std(df_rokok['charges'])\n",
    "print('standar deviasi dari tagihan perokok adalah sebesar ', std_df_rokok)\n",
    "\n",
    "# nilai x yang diinginkan\n",
    "x = 16700\n",
    "\n",
    "#menghitung standarisasi data\n",
    "Z = (x-df_rokok_mean)/std_df_rokok\n",
    "print('nilai Z adalah sebesar ', Z)\n",
    "\n",
    "#mendapatkan nilai CDF diatas nilai X\n",
    "p = 1-norm.cdf(Z)\n",
    "print('peluang seseorang acak tagihan kesehatannya diatas 16.7k diketahui dia adalah perokok adalah sebesar ', p)"
   ]
  },
  {
   "cell_type": "code",
   "execution_count": 55,
   "id": "1582f225",
   "metadata": {},
   "outputs": [
    {
     "name": "stdout",
     "output_type": "stream",
     "text": [
      "peluang seseorang acak tagihan kesehatannya diatas 16.7k diketahui dia adalah perokok adalah sebesar  0.9086407687093684\n"
     ]
    }
   ],
   "source": [
    "# cara cepet\n",
    "print('peluang seseorang acak tagihan kesehatannya diatas 16.7k diketahui dia adalah perokok adalah sebesar ',\n",
    "     1-stats.norm.cdf(16700, loc= df_rokok_mean, scale = std_df_rokok))"
   ]
  },
  {
   "cell_type": "markdown",
   "id": "0b7c955b",
   "metadata": {},
   "source": [
    "##### Mana yang lebih mungkin terjadi\n",
    "- Seseorang dengan BMI diatas 25 mendapatkan tagihan kesehatan diatas 16.7k,atau\n",
    "- Seseorang dengan BMI dibawah 25 mendapatkan tagihan kesehatan diatas 16.7k"
   ]
  },
  {
   "cell_type": "code",
   "execution_count": 56,
   "id": "114c7fd8",
   "metadata": {},
   "outputs": [
    {
     "data": {
      "text/html": [
       "<div>\n",
       "<style scoped>\n",
       "    .dataframe tbody tr th:only-of-type {\n",
       "        vertical-align: middle;\n",
       "    }\n",
       "\n",
       "    .dataframe tbody tr th {\n",
       "        vertical-align: top;\n",
       "    }\n",
       "\n",
       "    .dataframe thead th {\n",
       "        text-align: right;\n",
       "    }\n",
       "</style>\n",
       "<table border=\"1\" class=\"dataframe\">\n",
       "  <thead>\n",
       "    <tr style=\"text-align: right;\">\n",
       "      <th></th>\n",
       "      <th>age</th>\n",
       "      <th>sex</th>\n",
       "      <th>bmi</th>\n",
       "      <th>children</th>\n",
       "      <th>smoker</th>\n",
       "      <th>region</th>\n",
       "      <th>charges</th>\n",
       "    </tr>\n",
       "  </thead>\n",
       "  <tbody>\n",
       "    <tr>\n",
       "      <th>0</th>\n",
       "      <td>19</td>\n",
       "      <td>female</td>\n",
       "      <td>27.90</td>\n",
       "      <td>0</td>\n",
       "      <td>yes</td>\n",
       "      <td>southwest</td>\n",
       "      <td>16884.9240</td>\n",
       "    </tr>\n",
       "    <tr>\n",
       "      <th>1</th>\n",
       "      <td>18</td>\n",
       "      <td>male</td>\n",
       "      <td>33.77</td>\n",
       "      <td>1</td>\n",
       "      <td>no</td>\n",
       "      <td>southeast</td>\n",
       "      <td>1725.5523</td>\n",
       "    </tr>\n",
       "    <tr>\n",
       "      <th>2</th>\n",
       "      <td>28</td>\n",
       "      <td>male</td>\n",
       "      <td>33.00</td>\n",
       "      <td>3</td>\n",
       "      <td>no</td>\n",
       "      <td>southeast</td>\n",
       "      <td>4449.4620</td>\n",
       "    </tr>\n",
       "    <tr>\n",
       "      <th>4</th>\n",
       "      <td>32</td>\n",
       "      <td>male</td>\n",
       "      <td>28.88</td>\n",
       "      <td>0</td>\n",
       "      <td>no</td>\n",
       "      <td>northwest</td>\n",
       "      <td>3866.8552</td>\n",
       "    </tr>\n",
       "    <tr>\n",
       "      <th>5</th>\n",
       "      <td>31</td>\n",
       "      <td>female</td>\n",
       "      <td>25.74</td>\n",
       "      <td>0</td>\n",
       "      <td>no</td>\n",
       "      <td>southeast</td>\n",
       "      <td>3756.6216</td>\n",
       "    </tr>\n",
       "    <tr>\n",
       "      <th>...</th>\n",
       "      <td>...</td>\n",
       "      <td>...</td>\n",
       "      <td>...</td>\n",
       "      <td>...</td>\n",
       "      <td>...</td>\n",
       "      <td>...</td>\n",
       "      <td>...</td>\n",
       "    </tr>\n",
       "    <tr>\n",
       "      <th>1333</th>\n",
       "      <td>50</td>\n",
       "      <td>male</td>\n",
       "      <td>30.97</td>\n",
       "      <td>3</td>\n",
       "      <td>no</td>\n",
       "      <td>northwest</td>\n",
       "      <td>10600.5483</td>\n",
       "    </tr>\n",
       "    <tr>\n",
       "      <th>1334</th>\n",
       "      <td>18</td>\n",
       "      <td>female</td>\n",
       "      <td>31.92</td>\n",
       "      <td>0</td>\n",
       "      <td>no</td>\n",
       "      <td>northeast</td>\n",
       "      <td>2205.9808</td>\n",
       "    </tr>\n",
       "    <tr>\n",
       "      <th>1335</th>\n",
       "      <td>18</td>\n",
       "      <td>female</td>\n",
       "      <td>36.85</td>\n",
       "      <td>0</td>\n",
       "      <td>no</td>\n",
       "      <td>southeast</td>\n",
       "      <td>1629.8335</td>\n",
       "    </tr>\n",
       "    <tr>\n",
       "      <th>1336</th>\n",
       "      <td>21</td>\n",
       "      <td>female</td>\n",
       "      <td>25.80</td>\n",
       "      <td>0</td>\n",
       "      <td>no</td>\n",
       "      <td>southwest</td>\n",
       "      <td>2007.9450</td>\n",
       "    </tr>\n",
       "    <tr>\n",
       "      <th>1337</th>\n",
       "      <td>61</td>\n",
       "      <td>female</td>\n",
       "      <td>29.07</td>\n",
       "      <td>0</td>\n",
       "      <td>yes</td>\n",
       "      <td>northwest</td>\n",
       "      <td>29141.3603</td>\n",
       "    </tr>\n",
       "  </tbody>\n",
       "</table>\n",
       "<p>1091 rows × 7 columns</p>\n",
       "</div>"
      ],
      "text/plain": [
       "      age     sex    bmi  children smoker     region     charges\n",
       "0      19  female  27.90         0    yes  southwest  16884.9240\n",
       "1      18    male  33.77         1     no  southeast   1725.5523\n",
       "2      28    male  33.00         3     no  southeast   4449.4620\n",
       "4      32    male  28.88         0     no  northwest   3866.8552\n",
       "5      31  female  25.74         0     no  southeast   3756.6216\n",
       "...   ...     ...    ...       ...    ...        ...         ...\n",
       "1333   50    male  30.97         3     no  northwest  10600.5483\n",
       "1334   18  female  31.92         0     no  northeast   2205.9808\n",
       "1335   18  female  36.85         0     no  southeast   1629.8335\n",
       "1336   21  female  25.80         0     no  southwest   2007.9450\n",
       "1337   61  female  29.07         0    yes  northwest  29141.3603\n",
       "\n",
       "[1091 rows x 7 columns]"
      ]
     },
     "execution_count": 56,
     "metadata": {},
     "output_type": "execute_result"
    }
   ],
   "source": [
    "# filter data bmi>25\n",
    "df_bmi25 = df.loc[df['bmi'] >25]\n",
    "df_bmi25"
   ]
  },
  {
   "cell_type": "code",
   "execution_count": 57,
   "id": "41e461e4",
   "metadata": {},
   "outputs": [
    {
     "name": "stdout",
     "output_type": "stream",
     "text": [
      "rata-rata tagihan bagi orang dengan bmi > 25 adalah sebesar  13946.47603532447\n",
      "standar deviasi tagihan bagi orang dengan bmi > 25 adalah sebesar  12828.84209589184\n",
      "peluang seseorang yang bminya di atas 25 mendapatkan tagihan lebih dari 167000 adalah sebesar 0.4150257865243673\n"
     ]
    }
   ],
   "source": [
    "# cari rata-rata tagihan\n",
    "df_bmi25_mean = df_bmi25['charges'].mean()\n",
    "print('rata-rata tagihan bagi orang dengan bmi > 25 adalah sebesar ',df_bmi25_mean)\n",
    "\n",
    "# cari standar deviasi tagihan\n",
    "std_df_bmi25 = np.std(df_bmi25['charges'])\n",
    "print('standar deviasi tagihan bagi orang dengan bmi > 25 adalah sebesar ',std_df_bmi25)\n",
    "\n",
    "# hitung peluang tagihan >16700 jika bmi >25\n",
    "print('peluang seseorang yang bminya di atas 25 mendapatkan tagihan lebih dari 167000 adalah sebesar',\n",
    "      1-stats.norm.cdf(16700, loc = df_bmi25_mean, scale=std_df_bmi25))"
   ]
  },
  {
   "cell_type": "code",
   "execution_count": 58,
   "id": "1093419b",
   "metadata": {},
   "outputs": [
    {
     "data": {
      "text/html": [
       "<div>\n",
       "<style scoped>\n",
       "    .dataframe tbody tr th:only-of-type {\n",
       "        vertical-align: middle;\n",
       "    }\n",
       "\n",
       "    .dataframe tbody tr th {\n",
       "        vertical-align: top;\n",
       "    }\n",
       "\n",
       "    .dataframe thead th {\n",
       "        text-align: right;\n",
       "    }\n",
       "</style>\n",
       "<table border=\"1\" class=\"dataframe\">\n",
       "  <thead>\n",
       "    <tr style=\"text-align: right;\">\n",
       "      <th></th>\n",
       "      <th>age</th>\n",
       "      <th>sex</th>\n",
       "      <th>bmi</th>\n",
       "      <th>children</th>\n",
       "      <th>smoker</th>\n",
       "      <th>region</th>\n",
       "      <th>charges</th>\n",
       "    </tr>\n",
       "  </thead>\n",
       "  <tbody>\n",
       "    <tr>\n",
       "      <th>3</th>\n",
       "      <td>33</td>\n",
       "      <td>male</td>\n",
       "      <td>22.705</td>\n",
       "      <td>0</td>\n",
       "      <td>no</td>\n",
       "      <td>northwest</td>\n",
       "      <td>21984.47061</td>\n",
       "    </tr>\n",
       "    <tr>\n",
       "      <th>15</th>\n",
       "      <td>19</td>\n",
       "      <td>male</td>\n",
       "      <td>24.600</td>\n",
       "      <td>1</td>\n",
       "      <td>no</td>\n",
       "      <td>southwest</td>\n",
       "      <td>1837.23700</td>\n",
       "    </tr>\n",
       "    <tr>\n",
       "      <th>17</th>\n",
       "      <td>23</td>\n",
       "      <td>male</td>\n",
       "      <td>23.845</td>\n",
       "      <td>0</td>\n",
       "      <td>no</td>\n",
       "      <td>northeast</td>\n",
       "      <td>2395.17155</td>\n",
       "    </tr>\n",
       "    <tr>\n",
       "      <th>26</th>\n",
       "      <td>63</td>\n",
       "      <td>female</td>\n",
       "      <td>23.085</td>\n",
       "      <td>0</td>\n",
       "      <td>no</td>\n",
       "      <td>northeast</td>\n",
       "      <td>14451.83515</td>\n",
       "    </tr>\n",
       "    <tr>\n",
       "      <th>28</th>\n",
       "      <td>23</td>\n",
       "      <td>male</td>\n",
       "      <td>17.385</td>\n",
       "      <td>1</td>\n",
       "      <td>no</td>\n",
       "      <td>northwest</td>\n",
       "      <td>2775.19215</td>\n",
       "    </tr>\n",
       "    <tr>\n",
       "      <th>...</th>\n",
       "      <td>...</td>\n",
       "      <td>...</td>\n",
       "      <td>...</td>\n",
       "      <td>...</td>\n",
       "      <td>...</td>\n",
       "      <td>...</td>\n",
       "      <td>...</td>\n",
       "    </tr>\n",
       "    <tr>\n",
       "      <th>1304</th>\n",
       "      <td>42</td>\n",
       "      <td>male</td>\n",
       "      <td>24.605</td>\n",
       "      <td>2</td>\n",
       "      <td>yes</td>\n",
       "      <td>northeast</td>\n",
       "      <td>21259.37795</td>\n",
       "    </tr>\n",
       "    <tr>\n",
       "      <th>1306</th>\n",
       "      <td>29</td>\n",
       "      <td>female</td>\n",
       "      <td>21.850</td>\n",
       "      <td>0</td>\n",
       "      <td>yes</td>\n",
       "      <td>northeast</td>\n",
       "      <td>16115.30450</td>\n",
       "    </tr>\n",
       "    <tr>\n",
       "      <th>1314</th>\n",
       "      <td>30</td>\n",
       "      <td>female</td>\n",
       "      <td>23.655</td>\n",
       "      <td>3</td>\n",
       "      <td>yes</td>\n",
       "      <td>northwest</td>\n",
       "      <td>18765.87545</td>\n",
       "    </tr>\n",
       "    <tr>\n",
       "      <th>1316</th>\n",
       "      <td>19</td>\n",
       "      <td>female</td>\n",
       "      <td>20.600</td>\n",
       "      <td>0</td>\n",
       "      <td>no</td>\n",
       "      <td>southwest</td>\n",
       "      <td>1731.67700</td>\n",
       "    </tr>\n",
       "    <tr>\n",
       "      <th>1328</th>\n",
       "      <td>23</td>\n",
       "      <td>female</td>\n",
       "      <td>24.225</td>\n",
       "      <td>2</td>\n",
       "      <td>no</td>\n",
       "      <td>northeast</td>\n",
       "      <td>22395.74424</td>\n",
       "    </tr>\n",
       "  </tbody>\n",
       "</table>\n",
       "<p>245 rows × 7 columns</p>\n",
       "</div>"
      ],
      "text/plain": [
       "      age     sex     bmi  children smoker     region      charges\n",
       "3      33    male  22.705         0     no  northwest  21984.47061\n",
       "15     19    male  24.600         1     no  southwest   1837.23700\n",
       "17     23    male  23.845         0     no  northeast   2395.17155\n",
       "26     63  female  23.085         0     no  northeast  14451.83515\n",
       "28     23    male  17.385         1     no  northwest   2775.19215\n",
       "...   ...     ...     ...       ...    ...        ...          ...\n",
       "1304   42    male  24.605         2    yes  northeast  21259.37795\n",
       "1306   29  female  21.850         0    yes  northeast  16115.30450\n",
       "1314   30  female  23.655         3    yes  northwest  18765.87545\n",
       "1316   19  female  20.600         0     no  southwest   1731.67700\n",
       "1328   23  female  24.225         2     no  northeast  22395.74424\n",
       "\n",
       "[245 rows x 7 columns]"
      ]
     },
     "execution_count": 58,
     "metadata": {},
     "output_type": "execute_result"
    }
   ],
   "source": [
    "# filter data bmi<25\n",
    "df_bmikurang25 = df.loc[df['bmi'] <25]\n",
    "df_bmikurang25"
   ]
  },
  {
   "cell_type": "code",
   "execution_count": 59,
   "id": "c2892ad9",
   "metadata": {},
   "outputs": [
    {
     "name": "stdout",
     "output_type": "stream",
     "text": [
      "rata-rata tagihan bagi orang dengan bmi < 25 adalah sebesar  10282.224474367351\n",
      "standar deviasi tagihan bagi orang dengan bmi < 25 adalah sebesar  7505.122226232305\n",
      "peluang seseorang yang bminya di bawah 25 mendapatkan tagihan lebih dari 167000 adalah sebesar 0.1962425286399061\n"
     ]
    }
   ],
   "source": [
    "# cari rata-rata tagihan\n",
    "df_bmikurang25_mean = df_bmikurang25['charges'].mean()\n",
    "print('rata-rata tagihan bagi orang dengan bmi < 25 adalah sebesar ',df_bmikurang25_mean)\n",
    "\n",
    "# cari standar deviasi tagihan\n",
    "std_df_bmikurang25 = np.std(df_bmikurang25['charges'])\n",
    "print('standar deviasi tagihan bagi orang dengan bmi < 25 adalah sebesar ',std_df_bmikurang25)\n",
    "\n",
    "# hitung peluang tagihan >16700 jika bmi <25\n",
    "print('peluang seseorang yang bminya di bawah 25 mendapatkan tagihan lebih dari 167000 adalah sebesar',\n",
    "      1-stats.norm.cdf(16700, loc = df_bmikurang25_mean, scale=std_df_bmikurang25))"
   ]
  },
  {
   "cell_type": "markdown",
   "id": "1d0fd1fd",
   "metadata": {},
   "source": [
    "##### Mana yang lebih mungkin terjadi\n",
    "- Seseorang perokok dengan BMI diatas 25 mendapatkan tagihan kesehatan diatas 16.7k, atau\n",
    "- Seseorang non perokok dengan BMI diatas 25 mendapatkan tagihan kesehatan diatas 16.7k"
   ]
  },
  {
   "cell_type": "markdown",
   "id": "1d78905e",
   "metadata": {},
   "source": [
    "###### perokok bmi >25"
   ]
  },
  {
   "cell_type": "code",
   "execution_count": 60,
   "id": "4ceb0d44",
   "metadata": {},
   "outputs": [
    {
     "data": {
      "text/html": [
       "<div>\n",
       "<style scoped>\n",
       "    .dataframe tbody tr th:only-of-type {\n",
       "        vertical-align: middle;\n",
       "    }\n",
       "\n",
       "    .dataframe tbody tr th {\n",
       "        vertical-align: top;\n",
       "    }\n",
       "\n",
       "    .dataframe thead th {\n",
       "        text-align: right;\n",
       "    }\n",
       "</style>\n",
       "<table border=\"1\" class=\"dataframe\">\n",
       "  <thead>\n",
       "    <tr style=\"text-align: right;\">\n",
       "      <th></th>\n",
       "      <th>charges</th>\n",
       "      <th>smoker</th>\n",
       "      <th>bmi</th>\n",
       "    </tr>\n",
       "  </thead>\n",
       "  <tbody>\n",
       "    <tr>\n",
       "      <th>0</th>\n",
       "      <td>16884.92400</td>\n",
       "      <td>yes</td>\n",
       "      <td>27.900</td>\n",
       "    </tr>\n",
       "    <tr>\n",
       "      <th>11</th>\n",
       "      <td>27808.72510</td>\n",
       "      <td>yes</td>\n",
       "      <td>26.290</td>\n",
       "    </tr>\n",
       "    <tr>\n",
       "      <th>14</th>\n",
       "      <td>39611.75770</td>\n",
       "      <td>yes</td>\n",
       "      <td>42.130</td>\n",
       "    </tr>\n",
       "    <tr>\n",
       "      <th>19</th>\n",
       "      <td>36837.46700</td>\n",
       "      <td>yes</td>\n",
       "      <td>35.300</td>\n",
       "    </tr>\n",
       "    <tr>\n",
       "      <th>23</th>\n",
       "      <td>37701.87680</td>\n",
       "      <td>yes</td>\n",
       "      <td>31.920</td>\n",
       "    </tr>\n",
       "    <tr>\n",
       "      <th>...</th>\n",
       "      <td>...</td>\n",
       "      <td>...</td>\n",
       "      <td>...</td>\n",
       "    </tr>\n",
       "    <tr>\n",
       "      <th>1308</th>\n",
       "      <td>33900.65300</td>\n",
       "      <td>yes</td>\n",
       "      <td>30.200</td>\n",
       "    </tr>\n",
       "    <tr>\n",
       "      <th>1313</th>\n",
       "      <td>36397.57600</td>\n",
       "      <td>yes</td>\n",
       "      <td>34.700</td>\n",
       "    </tr>\n",
       "    <tr>\n",
       "      <th>1321</th>\n",
       "      <td>28101.33305</td>\n",
       "      <td>yes</td>\n",
       "      <td>26.695</td>\n",
       "    </tr>\n",
       "    <tr>\n",
       "      <th>1323</th>\n",
       "      <td>43896.37630</td>\n",
       "      <td>yes</td>\n",
       "      <td>40.370</td>\n",
       "    </tr>\n",
       "    <tr>\n",
       "      <th>1337</th>\n",
       "      <td>29141.36030</td>\n",
       "      <td>yes</td>\n",
       "      <td>29.070</td>\n",
       "    </tr>\n",
       "  </tbody>\n",
       "</table>\n",
       "<p>219 rows × 3 columns</p>\n",
       "</div>"
      ],
      "text/plain": [
       "          charges smoker     bmi\n",
       "0     16884.92400    yes  27.900\n",
       "11    27808.72510    yes  26.290\n",
       "14    39611.75770    yes  42.130\n",
       "19    36837.46700    yes  35.300\n",
       "23    37701.87680    yes  31.920\n",
       "...           ...    ...     ...\n",
       "1308  33900.65300    yes  30.200\n",
       "1313  36397.57600    yes  34.700\n",
       "1321  28101.33305    yes  26.695\n",
       "1323  43896.37630    yes  40.370\n",
       "1337  29141.36030    yes  29.070\n",
       "\n",
       "[219 rows x 3 columns]"
      ]
     },
     "execution_count": 60,
     "metadata": {},
     "output_type": "execute_result"
    }
   ],
   "source": [
    "# filter data perokok BMI >25\n",
    "df_rokok_bmi25 = df.loc[(df['smoker'] == 'yes') & (df['bmi'] > 25), ['charges', 'smoker','bmi']]\n",
    "df_rokok_bmi25 "
   ]
  },
  {
   "cell_type": "code",
   "execution_count": 61,
   "id": "2d0aad14",
   "metadata": {},
   "outputs": [
    {
     "data": {
      "text/plain": [
       "35116.90965694065"
      ]
     },
     "execution_count": 61,
     "metadata": {},
     "output_type": "execute_result"
    }
   ],
   "source": [
    "# mencari rata-rata tagihan dari data yang sudah difilter\n",
    "df_rokok_bmi25_mean = df_rokok_bmi25['charges'].mean() \n",
    "df_rokok_bmi25_mean"
   ]
  },
  {
   "cell_type": "code",
   "execution_count": 62,
   "id": "55325320",
   "metadata": {},
   "outputs": [
    {
     "data": {
      "text/plain": [
       "10678.098166346497"
      ]
     },
     "execution_count": 62,
     "metadata": {},
     "output_type": "execute_result"
    }
   ],
   "source": [
    "#mendapatkan nilai standar deviasi tagihan dari data yang sudah difilter\n",
    "std_rokok_bmi25 = np.std(df_rokok_bmi25['charges'])\n",
    "std_rokok_bmi25"
   ]
  },
  {
   "cell_type": "code",
   "execution_count": 63,
   "id": "2e87add3",
   "metadata": {
    "scrolled": true
   },
   "outputs": [
    {
     "name": "stdout",
     "output_type": "stream",
     "text": [
      "kemungkinan terjadi seorang perokok dengan BMI diatas 25 akan mendapatkan tagihan kesehatan di atas 16.700 adalah sebesar 0.9577125487589742\n"
     ]
    }
   ],
   "source": [
    "print('kemungkinan terjadi seorang perokok dengan BMI diatas 25 akan mendapatkan tagihan kesehatan di atas 16.700 adalah sebesar',\n",
    "     1-stats.norm.cdf(16700, loc= df_rokok_bmi25_mean, scale = std_rokok_bmi25))"
   ]
  },
  {
   "cell_type": "markdown",
   "id": "b2e4cd04",
   "metadata": {},
   "source": [
    "###### non perokok bmi >25"
   ]
  },
  {
   "cell_type": "code",
   "execution_count": 64,
   "id": "38adf087",
   "metadata": {},
   "outputs": [
    {
     "data": {
      "text/html": [
       "<div>\n",
       "<style scoped>\n",
       "    .dataframe tbody tr th:only-of-type {\n",
       "        vertical-align: middle;\n",
       "    }\n",
       "\n",
       "    .dataframe tbody tr th {\n",
       "        vertical-align: top;\n",
       "    }\n",
       "\n",
       "    .dataframe thead th {\n",
       "        text-align: right;\n",
       "    }\n",
       "</style>\n",
       "<table border=\"1\" class=\"dataframe\">\n",
       "  <thead>\n",
       "    <tr style=\"text-align: right;\">\n",
       "      <th></th>\n",
       "      <th>charges</th>\n",
       "      <th>smoker</th>\n",
       "      <th>bmi</th>\n",
       "    </tr>\n",
       "  </thead>\n",
       "  <tbody>\n",
       "    <tr>\n",
       "      <th>1</th>\n",
       "      <td>1725.5523</td>\n",
       "      <td>no</td>\n",
       "      <td>33.77</td>\n",
       "    </tr>\n",
       "    <tr>\n",
       "      <th>2</th>\n",
       "      <td>4449.4620</td>\n",
       "      <td>no</td>\n",
       "      <td>33.00</td>\n",
       "    </tr>\n",
       "    <tr>\n",
       "      <th>4</th>\n",
       "      <td>3866.8552</td>\n",
       "      <td>no</td>\n",
       "      <td>28.88</td>\n",
       "    </tr>\n",
       "    <tr>\n",
       "      <th>5</th>\n",
       "      <td>3756.6216</td>\n",
       "      <td>no</td>\n",
       "      <td>25.74</td>\n",
       "    </tr>\n",
       "    <tr>\n",
       "      <th>6</th>\n",
       "      <td>8240.5896</td>\n",
       "      <td>no</td>\n",
       "      <td>33.44</td>\n",
       "    </tr>\n",
       "    <tr>\n",
       "      <th>...</th>\n",
       "      <td>...</td>\n",
       "      <td>...</td>\n",
       "      <td>...</td>\n",
       "    </tr>\n",
       "    <tr>\n",
       "      <th>1332</th>\n",
       "      <td>11411.6850</td>\n",
       "      <td>no</td>\n",
       "      <td>44.70</td>\n",
       "    </tr>\n",
       "    <tr>\n",
       "      <th>1333</th>\n",
       "      <td>10600.5483</td>\n",
       "      <td>no</td>\n",
       "      <td>30.97</td>\n",
       "    </tr>\n",
       "    <tr>\n",
       "      <th>1334</th>\n",
       "      <td>2205.9808</td>\n",
       "      <td>no</td>\n",
       "      <td>31.92</td>\n",
       "    </tr>\n",
       "    <tr>\n",
       "      <th>1335</th>\n",
       "      <td>1629.8335</td>\n",
       "      <td>no</td>\n",
       "      <td>36.85</td>\n",
       "    </tr>\n",
       "    <tr>\n",
       "      <th>1336</th>\n",
       "      <td>2007.9450</td>\n",
       "      <td>no</td>\n",
       "      <td>25.80</td>\n",
       "    </tr>\n",
       "  </tbody>\n",
       "</table>\n",
       "<p>872 rows × 3 columns</p>\n",
       "</div>"
      ],
      "text/plain": [
       "         charges smoker    bmi\n",
       "1      1725.5523     no  33.77\n",
       "2      4449.4620     no  33.00\n",
       "4      3866.8552     no  28.88\n",
       "5      3756.6216     no  25.74\n",
       "6      8240.5896     no  33.44\n",
       "...          ...    ...    ...\n",
       "1332  11411.6850     no  44.70\n",
       "1333  10600.5483     no  30.97\n",
       "1334   2205.9808     no  31.92\n",
       "1335   1629.8335     no  36.85\n",
       "1336   2007.9450     no  25.80\n",
       "\n",
       "[872 rows x 3 columns]"
      ]
     },
     "execution_count": 64,
     "metadata": {},
     "output_type": "execute_result"
    }
   ],
   "source": [
    "# filter data perokok BMI >25\n",
    "df_nonrokok_bmi25 = df.loc[(df['smoker'] == 'no') & (df['bmi'] > 25), ['charges', 'smoker','bmi']]\n",
    "df_nonrokok_bmi25 "
   ]
  },
  {
   "cell_type": "code",
   "execution_count": 65,
   "id": "56076b06",
   "metadata": {
    "scrolled": true
   },
   "outputs": [
    {
     "name": "stdout",
     "output_type": "stream",
     "text": [
      "rata-rata tagihan bagi non perokok dengan bmi > 25 adalah sebesar  8629.589609712148\n",
      "standar deviasi tagihan bagi non perokok dengan bmi > 25 adalah sebesar  6037.089369828358\n",
      "peluang seorang non perokok yang bminya di atas 25 mendapatkan tagihan lebih dari 167000 adalah sebesar 0.09064317172700154\n"
     ]
    }
   ],
   "source": [
    "# cari rata-rata tagihan\n",
    "df_nonrokok_bmi25_mean = df_nonrokok_bmi25['charges'].mean()\n",
    "print('rata-rata tagihan bagi non perokok dengan bmi > 25 adalah sebesar ',df_nonrokok_bmi25_mean)\n",
    "\n",
    "# cari standar deviasi tagihan\n",
    "std_df_nonrokok_bmi25 = np.std(df_nonrokok_bmi25['charges'])\n",
    "print('standar deviasi tagihan bagi non perokok dengan bmi > 25 adalah sebesar ',std_df_nonrokok_bmi25)\n",
    "\n",
    "# hitung peluang tagihan non perokok >16700 jika bmi >25\n",
    "\n",
    "print('peluang seorang non perokok yang bminya di atas 25 mendapatkan tagihan lebih dari 167000 adalah sebesar',\n",
    "      1-stats.norm.cdf(16700, loc = df_nonrokok_bmi25_mean, scale=std_df_nonrokok_bmi25))"
   ]
  },
  {
   "cell_type": "markdown",
   "id": "3582bee9",
   "metadata": {},
   "source": [
    "##### menghitung cdf charges"
   ]
  },
  {
   "cell_type": "code",
   "execution_count": 66,
   "id": "69e58dd9",
   "metadata": {},
   "outputs": [
    {
     "data": {
      "text/plain": [
       "<AxesSubplot:xlabel='charges', ylabel='Count'>"
      ]
     },
     "execution_count": 66,
     "metadata": {},
     "output_type": "execute_result"
    },
    {
     "data": {
      "image/png": "[encoded data removed]",
      "text/plain": [
       "<Figure size 432x288 with 1 Axes>"
      ]
     },
     "metadata": {
      "needs_background": "light"
     },
     "output_type": "display_data"
    }
   ],
   "source": [
    "sns.histplot(data= df['charges'], kde = 'True')"
   ]
  },
  {
   "cell_type": "code",
   "execution_count": 67,
   "id": "f7838343",
   "metadata": {},
   "outputs": [
    {
     "data": {
      "text/plain": [
       "0.3884704677059271"
      ]
     },
     "execution_count": 67,
     "metadata": {},
     "output_type": "execute_result"
    }
   ],
   "source": [
    "mu_charges = df['charges'].mean()\n",
    "std_charges = np.std(df['charges'])\n",
    "\n",
    "# peluang seseorang dapat tagihan di atas 16700\n",
    "1-stats.norm.cdf(16700, loc = mu_charges, scale=std_charges)"
   ]
  },
  {
   "cell_type": "markdown",
   "id": "4d7fdfe4",
   "metadata": {},
   "source": [
    "## Bagian 4"
   ]
  },
  {
   "cell_type": "code",
   "execution_count": 68,
   "id": "63023b24",
   "metadata": {
    "scrolled": true
   },
   "outputs": [
    {
     "data": {
      "text/html": [
       "<div>\n",
       "<style scoped>\n",
       "    .dataframe tbody tr th:only-of-type {\n",
       "        vertical-align: middle;\n",
       "    }\n",
       "\n",
       "    .dataframe tbody tr th {\n",
       "        vertical-align: top;\n",
       "    }\n",
       "\n",
       "    .dataframe thead th {\n",
       "        text-align: right;\n",
       "    }\n",
       "</style>\n",
       "<table border=\"1\" class=\"dataframe\">\n",
       "  <thead>\n",
       "    <tr style=\"text-align: right;\">\n",
       "      <th></th>\n",
       "      <th>age</th>\n",
       "      <th>sex</th>\n",
       "      <th>bmi</th>\n",
       "      <th>children</th>\n",
       "      <th>smoker</th>\n",
       "      <th>region</th>\n",
       "      <th>charges</th>\n",
       "    </tr>\n",
       "  </thead>\n",
       "  <tbody>\n",
       "    <tr>\n",
       "      <th>0</th>\n",
       "      <td>19</td>\n",
       "      <td>female</td>\n",
       "      <td>27.900</td>\n",
       "      <td>0</td>\n",
       "      <td>yes</td>\n",
       "      <td>southwest</td>\n",
       "      <td>16884.92400</td>\n",
       "    </tr>\n",
       "    <tr>\n",
       "      <th>1</th>\n",
       "      <td>18</td>\n",
       "      <td>male</td>\n",
       "      <td>33.770</td>\n",
       "      <td>1</td>\n",
       "      <td>no</td>\n",
       "      <td>southeast</td>\n",
       "      <td>1725.55230</td>\n",
       "    </tr>\n",
       "    <tr>\n",
       "      <th>2</th>\n",
       "      <td>28</td>\n",
       "      <td>male</td>\n",
       "      <td>33.000</td>\n",
       "      <td>3</td>\n",
       "      <td>no</td>\n",
       "      <td>southeast</td>\n",
       "      <td>4449.46200</td>\n",
       "    </tr>\n",
       "    <tr>\n",
       "      <th>3</th>\n",
       "      <td>33</td>\n",
       "      <td>male</td>\n",
       "      <td>22.705</td>\n",
       "      <td>0</td>\n",
       "      <td>no</td>\n",
       "      <td>northwest</td>\n",
       "      <td>21984.47061</td>\n",
       "    </tr>\n",
       "    <tr>\n",
       "      <th>4</th>\n",
       "      <td>32</td>\n",
       "      <td>male</td>\n",
       "      <td>28.880</td>\n",
       "      <td>0</td>\n",
       "      <td>no</td>\n",
       "      <td>northwest</td>\n",
       "      <td>3866.85520</td>\n",
       "    </tr>\n",
       "    <tr>\n",
       "      <th>...</th>\n",
       "      <td>...</td>\n",
       "      <td>...</td>\n",
       "      <td>...</td>\n",
       "      <td>...</td>\n",
       "      <td>...</td>\n",
       "      <td>...</td>\n",
       "      <td>...</td>\n",
       "    </tr>\n",
       "    <tr>\n",
       "      <th>1333</th>\n",
       "      <td>50</td>\n",
       "      <td>male</td>\n",
       "      <td>30.970</td>\n",
       "      <td>3</td>\n",
       "      <td>no</td>\n",
       "      <td>northwest</td>\n",
       "      <td>10600.54830</td>\n",
       "    </tr>\n",
       "    <tr>\n",
       "      <th>1334</th>\n",
       "      <td>18</td>\n",
       "      <td>female</td>\n",
       "      <td>31.920</td>\n",
       "      <td>0</td>\n",
       "      <td>no</td>\n",
       "      <td>northeast</td>\n",
       "      <td>2205.98080</td>\n",
       "    </tr>\n",
       "    <tr>\n",
       "      <th>1335</th>\n",
       "      <td>18</td>\n",
       "      <td>female</td>\n",
       "      <td>36.850</td>\n",
       "      <td>0</td>\n",
       "      <td>no</td>\n",
       "      <td>southeast</td>\n",
       "      <td>1629.83350</td>\n",
       "    </tr>\n",
       "    <tr>\n",
       "      <th>1336</th>\n",
       "      <td>21</td>\n",
       "      <td>female</td>\n",
       "      <td>25.800</td>\n",
       "      <td>0</td>\n",
       "      <td>no</td>\n",
       "      <td>southwest</td>\n",
       "      <td>2007.94500</td>\n",
       "    </tr>\n",
       "    <tr>\n",
       "      <th>1337</th>\n",
       "      <td>61</td>\n",
       "      <td>female</td>\n",
       "      <td>29.070</td>\n",
       "      <td>0</td>\n",
       "      <td>yes</td>\n",
       "      <td>northwest</td>\n",
       "      <td>29141.36030</td>\n",
       "    </tr>\n",
       "  </tbody>\n",
       "</table>\n",
       "<p>1338 rows × 7 columns</p>\n",
       "</div>"
      ],
      "text/plain": [
       "      age     sex     bmi  children smoker     region      charges\n",
       "0      19  female  27.900         0    yes  southwest  16884.92400\n",
       "1      18    male  33.770         1     no  southeast   1725.55230\n",
       "2      28    male  33.000         3     no  southeast   4449.46200\n",
       "3      33    male  22.705         0     no  northwest  21984.47061\n",
       "4      32    male  28.880         0     no  northwest   3866.85520\n",
       "...   ...     ...     ...       ...    ...        ...          ...\n",
       "1333   50    male  30.970         3     no  northwest  10600.54830\n",
       "1334   18  female  31.920         0     no  northeast   2205.98080\n",
       "1335   18  female  36.850         0     no  southeast   1629.83350\n",
       "1336   21  female  25.800         0     no  southwest   2007.94500\n",
       "1337   61  female  29.070         0    yes  northwest  29141.36030\n",
       "\n",
       "[1338 rows x 7 columns]"
      ]
     },
     "execution_count": 68,
     "metadata": {},
     "output_type": "execute_result"
    }
   ],
   "source": [
    "# mengcopy dataframe dengan nama yang berbeda\n",
    "df1 = pd.read_csv(r\"C:\\Users\\KEMENKEU\\Desktop\\OneDrive - Kemenkeu\\Sinau\\Pacmann\\Intro to Probability\\Tugas\\Project\\insurance.csv\")\n",
    "df1"
   ]
  },
  {
   "cell_type": "code",
   "execution_count": 69,
   "id": "c4a1c733",
   "metadata": {
    "scrolled": true
   },
   "outputs": [
    {
     "data": {
      "text/html": [
       "<div>\n",
       "<style scoped>\n",
       "    .dataframe tbody tr th:only-of-type {\n",
       "        vertical-align: middle;\n",
       "    }\n",
       "\n",
       "    .dataframe tbody tr th {\n",
       "        vertical-align: top;\n",
       "    }\n",
       "\n",
       "    .dataframe thead th {\n",
       "        text-align: right;\n",
       "    }\n",
       "</style>\n",
       "<table border=\"1\" class=\"dataframe\">\n",
       "  <thead>\n",
       "    <tr style=\"text-align: right;\">\n",
       "      <th></th>\n",
       "      <th>age</th>\n",
       "      <th>sex</th>\n",
       "      <th>bmi</th>\n",
       "      <th>children</th>\n",
       "      <th>smoker</th>\n",
       "      <th>region</th>\n",
       "      <th>charges</th>\n",
       "    </tr>\n",
       "  </thead>\n",
       "  <tbody>\n",
       "    <tr>\n",
       "      <th>0</th>\n",
       "      <td>19</td>\n",
       "      <td>1</td>\n",
       "      <td>27.900</td>\n",
       "      <td>0</td>\n",
       "      <td>1</td>\n",
       "      <td>southwest</td>\n",
       "      <td>16884.92400</td>\n",
       "    </tr>\n",
       "    <tr>\n",
       "      <th>1</th>\n",
       "      <td>18</td>\n",
       "      <td>0</td>\n",
       "      <td>33.770</td>\n",
       "      <td>1</td>\n",
       "      <td>0</td>\n",
       "      <td>southeast</td>\n",
       "      <td>1725.55230</td>\n",
       "    </tr>\n",
       "    <tr>\n",
       "      <th>2</th>\n",
       "      <td>28</td>\n",
       "      <td>0</td>\n",
       "      <td>33.000</td>\n",
       "      <td>3</td>\n",
       "      <td>0</td>\n",
       "      <td>southeast</td>\n",
       "      <td>4449.46200</td>\n",
       "    </tr>\n",
       "    <tr>\n",
       "      <th>3</th>\n",
       "      <td>33</td>\n",
       "      <td>0</td>\n",
       "      <td>22.705</td>\n",
       "      <td>0</td>\n",
       "      <td>0</td>\n",
       "      <td>northwest</td>\n",
       "      <td>21984.47061</td>\n",
       "    </tr>\n",
       "    <tr>\n",
       "      <th>4</th>\n",
       "      <td>32</td>\n",
       "      <td>0</td>\n",
       "      <td>28.880</td>\n",
       "      <td>0</td>\n",
       "      <td>0</td>\n",
       "      <td>northwest</td>\n",
       "      <td>3866.85520</td>\n",
       "    </tr>\n",
       "    <tr>\n",
       "      <th>...</th>\n",
       "      <td>...</td>\n",
       "      <td>...</td>\n",
       "      <td>...</td>\n",
       "      <td>...</td>\n",
       "      <td>...</td>\n",
       "      <td>...</td>\n",
       "      <td>...</td>\n",
       "    </tr>\n",
       "    <tr>\n",
       "      <th>1333</th>\n",
       "      <td>50</td>\n",
       "      <td>0</td>\n",
       "      <td>30.970</td>\n",
       "      <td>3</td>\n",
       "      <td>0</td>\n",
       "      <td>northwest</td>\n",
       "      <td>10600.54830</td>\n",
       "    </tr>\n",
       "    <tr>\n",
       "      <th>1334</th>\n",
       "      <td>18</td>\n",
       "      <td>1</td>\n",
       "      <td>31.920</td>\n",
       "      <td>0</td>\n",
       "      <td>0</td>\n",
       "      <td>northeast</td>\n",
       "      <td>2205.98080</td>\n",
       "    </tr>\n",
       "    <tr>\n",
       "      <th>1335</th>\n",
       "      <td>18</td>\n",
       "      <td>1</td>\n",
       "      <td>36.850</td>\n",
       "      <td>0</td>\n",
       "      <td>0</td>\n",
       "      <td>southeast</td>\n",
       "      <td>1629.83350</td>\n",
       "    </tr>\n",
       "    <tr>\n",
       "      <th>1336</th>\n",
       "      <td>21</td>\n",
       "      <td>1</td>\n",
       "      <td>25.800</td>\n",
       "      <td>0</td>\n",
       "      <td>0</td>\n",
       "      <td>southwest</td>\n",
       "      <td>2007.94500</td>\n",
       "    </tr>\n",
       "    <tr>\n",
       "      <th>1337</th>\n",
       "      <td>61</td>\n",
       "      <td>1</td>\n",
       "      <td>29.070</td>\n",
       "      <td>0</td>\n",
       "      <td>1</td>\n",
       "      <td>northwest</td>\n",
       "      <td>29141.36030</td>\n",
       "    </tr>\n",
       "  </tbody>\n",
       "</table>\n",
       "<p>1338 rows × 7 columns</p>\n",
       "</div>"
      ],
      "text/plain": [
       "      age  sex     bmi  children  smoker     region      charges\n",
       "0      19    1  27.900         0       1  southwest  16884.92400\n",
       "1      18    0  33.770         1       0  southeast   1725.55230\n",
       "2      28    0  33.000         3       0  southeast   4449.46200\n",
       "3      33    0  22.705         0       0  northwest  21984.47061\n",
       "4      32    0  28.880         0       0  northwest   3866.85520\n",
       "...   ...  ...     ...       ...     ...        ...          ...\n",
       "1333   50    0  30.970         3       0  northwest  10600.54830\n",
       "1334   18    1  31.920         0       0  northeast   2205.98080\n",
       "1335   18    1  36.850         0       0  southeast   1629.83350\n",
       "1336   21    1  25.800         0       0  southwest   2007.94500\n",
       "1337   61    1  29.070         0       1  northwest  29141.36030\n",
       "\n",
       "[1338 rows x 7 columns]"
      ]
     },
     "execution_count": 69,
     "metadata": {},
     "output_type": "execute_result"
    }
   ],
   "source": [
    "# mengubah value smoker dan sex menjadi 1 dan 0\n",
    "# 1 untuk smoker dan/atau female\n",
    "# 0 untuk non smoker dan/atau male\n",
    "\n",
    "df1.smoker.replace(('yes', 'no'), (1, 0), inplace=True)\n",
    "df1.sex.replace(('female', 'male'), (1, 0), inplace=True)\n",
    "df1"
   ]
  },
  {
   "cell_type": "code",
   "execution_count": 70,
   "id": "bfe49ae3",
   "metadata": {},
   "outputs": [
    {
     "data": {
      "image/png": "[encoded data removed]",
      "text/plain": [
       "<Figure size 576x576 with 2 Axes>"
      ]
     },
     "metadata": {
      "needs_background": "light"
     },
     "output_type": "display_data"
    }
   ],
   "source": [
    "# melihat korelasi antar kolom\n",
    "columns_corr = ['charges', 'smoker', 'age', 'bmi', 'children', 'sex']\n",
    "corr = df1[columns_corr].corr()\n",
    "\n",
    "# setting ukuran\n",
    "f, ax = plt.subplots(figsize=(8,8))\n",
    "\n",
    "\n",
    "# membuat heatmap\n",
    "colormap = sns.heatmap(corr,\n",
    "                       annot=True,\n",
    "                       annot_kws ={'size':15},\n",
    "                       cmap=\"YlGnBu\", \n",
    "                       vmax=1, \n",
    "                       square=True, \n",
    "                       linewidths=2, \n",
    "                       cbar_kws={\"shrink\": .9}\n",
    "                      )\n",
    "colormap.set_xticklabels(colormap.get_xmajorticklabels(), fontsize=15, rotation=0)\n",
    "colormap.set_yticklabels(colormap.get_ymajorticklabels(), fontsize=18, rotation=360)\n",
    "\n",
    "plt.title('Korelasi masing-masing kolom', size = 20);"
   ]
  },
  {
   "cell_type": "markdown",
   "id": "181b2417",
   "metadata": {},
   "source": [
    "- feature 'smoker' is highly correlated to the target 'charges'\n",
    "- features 'age' and 'bmi' are slighty correlated to the target 'charges'\n",
    "- features 'children' and 'sex' are poorly correlated to the target 'charges'"
   ]
  },
  {
   "cell_type": "markdown",
   "id": "fcc4bd14",
   "metadata": {},
   "source": [
    "## Bagian 5"
   ]
  },
  {
   "cell_type": "markdown",
   "id": "a8d861fd",
   "metadata": {},
   "source": [
    "##### 5.1 Buktikan hipotesis Tagihan kesehatan perokok lebih tinggi daripada tagihan kesehatan non perokok"
   ]
  },
  {
   "cell_type": "markdown",
   "id": "7416ef02",
   "metadata": {},
   "source": [
    "#### 5.1.1. Hipotesis dan Significance Level"
   ]
  },
  {
   "cell_type": "markdown",
   "id": "dbf37f5b",
   "metadata": {},
   "source": [
    "$$H_0: \\mu perokok  \\leq \\mu non perokok$$\n",
    "$$H_1: \\mu perokok >  \\mu non perokok $$"
   ]
  },
  {
   "cell_type": "code",
   "execution_count": 353,
   "id": "a63dce70",
   "metadata": {},
   "outputs": [],
   "source": [
    "a = 0.05"
   ]
  },
  {
   "cell_type": "markdown",
   "id": "cb68412c",
   "metadata": {},
   "source": [
    "#### 5.1.2. Tentukan statistik uji"
   ]
  },
  {
   "cell_type": "markdown",
   "id": "aa3e1317",
   "metadata": {},
   "source": [
    "Uji statistik yang digunakan adalah Z Test karena jumlah sample lebih dari 30"
   ]
  },
  {
   "cell_type": "markdown",
   "id": "09cb016e",
   "metadata": {},
   "source": [
    "#### 5.1.3. Aturan Keputusan"
   ]
  },
  {
   "cell_type": "markdown",
   "id": "0ed6331b",
   "metadata": {},
   "source": [
    "- Zhitung atau Zh sebesar 1.645\n",
    "- Menggunakan uji kanan\n",
    "- Daerah penolakan H1 ada di sebelah kiri dengan critical value 1.645 atau dapat dikatakan bahwa daerah penerimaan H1 ada di sebelah kanan dengan critical value 1.645\n",
    "- Jika statistik uji kurang dari critical value, h1 ditolak.\n",
    "- Jika p value kurang dari a, h1 ditolak"
   ]
  },
  {
   "cell_type": "markdown",
   "id": "1e84e84b",
   "metadata": {},
   "source": [
    "#### 5.1.4. Hitung statistik uji"
   ]
  },
  {
   "cell_type": "code",
   "execution_count": 354,
   "id": "4965e71b",
   "metadata": {
    "scrolled": true
   },
   "outputs": [
    {
     "data": {
      "text/html": [
       "<div>\n",
       "<style scoped>\n",
       "    .dataframe tbody tr th:only-of-type {\n",
       "        vertical-align: middle;\n",
       "    }\n",
       "\n",
       "    .dataframe tbody tr th {\n",
       "        vertical-align: top;\n",
       "    }\n",
       "\n",
       "    .dataframe thead th {\n",
       "        text-align: right;\n",
       "    }\n",
       "</style>\n",
       "<table border=\"1\" class=\"dataframe\">\n",
       "  <thead>\n",
       "    <tr style=\"text-align: right;\">\n",
       "      <th></th>\n",
       "      <th>charges</th>\n",
       "    </tr>\n",
       "  </thead>\n",
       "  <tbody>\n",
       "    <tr>\n",
       "      <th>0</th>\n",
       "      <td>16884.92400</td>\n",
       "    </tr>\n",
       "    <tr>\n",
       "      <th>11</th>\n",
       "      <td>27808.72510</td>\n",
       "    </tr>\n",
       "    <tr>\n",
       "      <th>14</th>\n",
       "      <td>39611.75770</td>\n",
       "    </tr>\n",
       "    <tr>\n",
       "      <th>19</th>\n",
       "      <td>36837.46700</td>\n",
       "    </tr>\n",
       "    <tr>\n",
       "      <th>23</th>\n",
       "      <td>37701.87680</td>\n",
       "    </tr>\n",
       "    <tr>\n",
       "      <th>...</th>\n",
       "      <td>...</td>\n",
       "    </tr>\n",
       "    <tr>\n",
       "      <th>1313</th>\n",
       "      <td>36397.57600</td>\n",
       "    </tr>\n",
       "    <tr>\n",
       "      <th>1314</th>\n",
       "      <td>18765.87545</td>\n",
       "    </tr>\n",
       "    <tr>\n",
       "      <th>1321</th>\n",
       "      <td>28101.33305</td>\n",
       "    </tr>\n",
       "    <tr>\n",
       "      <th>1323</th>\n",
       "      <td>43896.37630</td>\n",
       "    </tr>\n",
       "    <tr>\n",
       "      <th>1337</th>\n",
       "      <td>29141.36030</td>\n",
       "    </tr>\n",
       "  </tbody>\n",
       "</table>\n",
       "<p>274 rows × 1 columns</p>\n",
       "</div>"
      ],
      "text/plain": [
       "          charges\n",
       "0     16884.92400\n",
       "11    27808.72510\n",
       "14    39611.75770\n",
       "19    36837.46700\n",
       "23    37701.87680\n",
       "...           ...\n",
       "1313  36397.57600\n",
       "1314  18765.87545\n",
       "1321  28101.33305\n",
       "1323  43896.37630\n",
       "1337  29141.36030\n",
       "\n",
       "[274 rows x 1 columns]"
      ]
     },
     "execution_count": 354,
     "metadata": {},
     "output_type": "execute_result"
    }
   ],
   "source": [
    "# memfilter data tagihan perokok\n",
    "df_smoker = df1.loc[df['smoker'] == \"yes\", ['charges']]\n",
    "df_smoker"
   ]
  },
  {
   "cell_type": "code",
   "execution_count": 355,
   "id": "8294af71",
   "metadata": {},
   "outputs": [
    {
     "data": {
      "text/plain": [
       "11520.466706529429"
      ]
     },
     "execution_count": 355,
     "metadata": {},
     "output_type": "execute_result"
    }
   ],
   "source": [
    "# std tagihan perokok\n",
    "std_smoker = np.std(df_smoker['charges'])\n",
    "std_smoker"
   ]
  },
  {
   "cell_type": "code",
   "execution_count": 356,
   "id": "8ca740e3",
   "metadata": {
    "scrolled": true
   },
   "outputs": [
    {
     "data": {
      "text/html": [
       "<div>\n",
       "<style scoped>\n",
       "    .dataframe tbody tr th:only-of-type {\n",
       "        vertical-align: middle;\n",
       "    }\n",
       "\n",
       "    .dataframe tbody tr th {\n",
       "        vertical-align: top;\n",
       "    }\n",
       "\n",
       "    .dataframe thead th {\n",
       "        text-align: right;\n",
       "    }\n",
       "</style>\n",
       "<table border=\"1\" class=\"dataframe\">\n",
       "  <thead>\n",
       "    <tr style=\"text-align: right;\">\n",
       "      <th></th>\n",
       "      <th>charges</th>\n",
       "    </tr>\n",
       "  </thead>\n",
       "  <tbody>\n",
       "    <tr>\n",
       "      <th>1</th>\n",
       "      <td>1725.55230</td>\n",
       "    </tr>\n",
       "    <tr>\n",
       "      <th>2</th>\n",
       "      <td>4449.46200</td>\n",
       "    </tr>\n",
       "    <tr>\n",
       "      <th>3</th>\n",
       "      <td>21984.47061</td>\n",
       "    </tr>\n",
       "    <tr>\n",
       "      <th>4</th>\n",
       "      <td>3866.85520</td>\n",
       "    </tr>\n",
       "    <tr>\n",
       "      <th>5</th>\n",
       "      <td>3756.62160</td>\n",
       "    </tr>\n",
       "    <tr>\n",
       "      <th>...</th>\n",
       "      <td>...</td>\n",
       "    </tr>\n",
       "    <tr>\n",
       "      <th>1332</th>\n",
       "      <td>11411.68500</td>\n",
       "    </tr>\n",
       "    <tr>\n",
       "      <th>1333</th>\n",
       "      <td>10600.54830</td>\n",
       "    </tr>\n",
       "    <tr>\n",
       "      <th>1334</th>\n",
       "      <td>2205.98080</td>\n",
       "    </tr>\n",
       "    <tr>\n",
       "      <th>1335</th>\n",
       "      <td>1629.83350</td>\n",
       "    </tr>\n",
       "    <tr>\n",
       "      <th>1336</th>\n",
       "      <td>2007.94500</td>\n",
       "    </tr>\n",
       "  </tbody>\n",
       "</table>\n",
       "<p>1064 rows × 1 columns</p>\n",
       "</div>"
      ],
      "text/plain": [
       "          charges\n",
       "1      1725.55230\n",
       "2      4449.46200\n",
       "3     21984.47061\n",
       "4      3866.85520\n",
       "5      3756.62160\n",
       "...           ...\n",
       "1332  11411.68500\n",
       "1333  10600.54830\n",
       "1334   2205.98080\n",
       "1335   1629.83350\n",
       "1336   2007.94500\n",
       "\n",
       "[1064 rows x 1 columns]"
      ]
     },
     "execution_count": 356,
     "metadata": {},
     "output_type": "execute_result"
    }
   ],
   "source": [
    "# memfilter tagihan non perokok\n",
    "df_non_smoker = df1.loc[df['smoker'] == \"no\", ['charges']]\n",
    "df_non_smoker"
   ]
  },
  {
   "cell_type": "code",
   "execution_count": 357,
   "id": "f86b3f6b",
   "metadata": {
    "scrolled": true
   },
   "outputs": [
    {
     "data": {
      "text/plain": [
       "5990.964530287611"
      ]
     },
     "execution_count": 357,
     "metadata": {},
     "output_type": "execute_result"
    }
   ],
   "source": [
    "# std tagihan non perokok\n",
    "std_non_smoker = np.std(df_non_smoker['charges'])\n",
    "std_non_smoker"
   ]
  },
  {
   "cell_type": "code",
   "execution_count": 358,
   "id": "495414a4",
   "metadata": {},
   "outputs": [],
   "source": [
    "# jumlah masing-masing data perokok dan non perokok\n",
    "n1 = 274\n",
    "n2 = 1064"
   ]
  },
  {
   "cell_type": "code",
   "execution_count": 359,
   "id": "8416dc5a",
   "metadata": {},
   "outputs": [
    {
     "name": "stdout",
     "output_type": "stream",
     "text": [
      "rata-rata tagihan perokok adalah sebesar  32050.23183153285\n",
      "rata-rata tagihan non perokok adalah sebesar  8434.268297856199\n"
     ]
    }
   ],
   "source": [
    "# rata-rata tagihan perokok\n",
    "mean_smoker = df_smoker['charges'].mean()\n",
    "print(\"rata-rata tagihan perokok adalah sebesar \", mean_smoker)\n",
    "\n",
    "# rata-rata tagihan non perokok\n",
    "mean_non_smoker = df_non_smoker['charges'].mean()\n",
    "mean_non_smoker\n",
    "print(\"rata-rata tagihan non perokok adalah sebesar \", mean_non_smoker)\n",
    "\n",
    "# nilai alpha dan znya\n",
    "a = 0.05\n",
    "Z5 = 1.64\n"
   ]
  },
  {
   "cell_type": "code",
   "execution_count": 360,
   "id": "b96dcbec",
   "metadata": {},
   "outputs": [
    {
     "data": {
      "text/plain": [
       "32.80892081978336"
      ]
     },
     "execution_count": 360,
     "metadata": {},
     "output_type": "execute_result"
    }
   ],
   "source": [
    "# nilai Zh atau z hitung atau uji statistik\n",
    "Zh = (mean_smoker-mean_non_smoker)/(np.sqrt(((std_smoker**2)/n1) +(std_non_smoker**2/n2)))\n",
    "Zh"
   ]
  },
  {
   "cell_type": "markdown",
   "id": "0df4f60c",
   "metadata": {},
   "source": [
    "#### Hitung Uji Statistik Menggunakan library"
   ]
  },
  {
   "cell_type": "code",
   "execution_count": 361,
   "id": "e71a444a",
   "metadata": {},
   "outputs": [],
   "source": [
    "# mengubah dataframe menjadi list\n",
    "df_smoker_list = bmi25['charges'].values.tolist()\n",
    "df_nonsmoker_list= bmi_kurang25['charges'].values.tolist()"
   ]
  },
  {
   "cell_type": "code",
   "execution_count": 362,
   "id": "599eaac8",
   "metadata": {},
   "outputs": [
    {
     "name": "stdout",
     "output_type": "stream",
     "text": [
      "4.305033989510502 0.9999916519950433\n"
     ]
    }
   ],
   "source": [
    "# menggunakan library\n",
    "stat, pvalue = ztest(df_smoker_list, df_nonsmoker_list, alternative = 'smaller', value=0)\n",
    "print(stat, pvalue)"
   ]
  },
  {
   "cell_type": "markdown",
   "id": "ef5fd579",
   "metadata": {},
   "source": [
    "#### 5.1.5 Pengambilan Keputusan"
   ]
  },
  {
   "cell_type": "code",
   "execution_count": 363,
   "id": "9696cce2",
   "metadata": {
    "scrolled": true
   },
   "outputs": [
    {
     "name": "stdout",
     "output_type": "stream",
     "text": [
      "Pengambilan Keputusan\n",
      "Terima H1\n"
     ]
    }
   ],
   "source": [
    "print('Pengambilan Keputusan')\n",
    "\n",
    "# jika Zh lebih besar dari Z5 maka:\n",
    "if Zh > z5:\n",
    "  print('Terima H1') \n",
    "# jika Zh lebih kecil dari Z5 maka:\n",
    "else:\n",
    "  print('Tolak H1')"
   ]
  },
  {
   "cell_type": "markdown",
   "id": "f3f1ddad",
   "metadata": {},
   "source": [
    "Oleh sebab itu, hipotesis (H1) yang menyatakan bahwa tagihan perokok lebih besar daripada tagihan non perokok diterima karena Z hitung > 1.645"
   ]
  },
  {
   "cell_type": "code",
   "execution_count": 364,
   "id": "136079b9",
   "metadata": {},
   "outputs": [
    {
     "name": "stdout",
     "output_type": "stream",
     "text": [
      " terima H1\n"
     ]
    }
   ],
   "source": [
    "# Pengambilan Keputusan berdasarkan alpha dan p value\n",
    "if pvalue > a:\n",
    "    print(' terima H1') \n",
    "else:\n",
    "    print('Tolak H1')"
   ]
  },
  {
   "cell_type": "markdown",
   "id": "f3761416",
   "metadata": {},
   "source": [
    "Oleh sebab itu, hipotesis (H1) yang menyatakan bahwa tagihan perokok lebih besar daripada tagihan non perokok diterima karena p value > a"
   ]
  },
  {
   "cell_type": "markdown",
   "id": "bdd6b9b7",
   "metadata": {},
   "source": [
    "#### 5.2 Tagihan kesehatan dengan BMI diatas 25 lebih tinggi daripada tagihan kesehatan dengan BMI dibawah 25"
   ]
  },
  {
   "cell_type": "markdown",
   "id": "f15d9275",
   "metadata": {},
   "source": [
    "#### 5.2.1. Hipotesis dan Significance Level"
   ]
  },
  {
   "cell_type": "markdown",
   "id": "e65f8448",
   "metadata": {},
   "source": [
    "$$H_0: \\mu bmi lebih dari 25  \\leq \\mu bmi kurang dari25$$\n",
    "$$H_1: \\mu bmi lebih dari 25 >  \\mu bmi kurang dari 25 $$"
   ]
  },
  {
   "cell_type": "code",
   "execution_count": 365,
   "id": "afdbd741",
   "metadata": {},
   "outputs": [],
   "source": [
    "a= 0.05"
   ]
  },
  {
   "cell_type": "markdown",
   "id": "0080e615",
   "metadata": {},
   "source": [
    "#### 5.2.2. Tentukan statistik uji"
   ]
  },
  {
   "cell_type": "markdown",
   "id": "c9f95b56",
   "metadata": {},
   "source": [
    "Uji statistik yang digunakan adalah Z Test karena jumlah sample lebih dari 30"
   ]
  },
  {
   "cell_type": "markdown",
   "id": "f97aea97",
   "metadata": {},
   "source": [
    "#### 5.2.3. Aturan Keputusan"
   ]
  },
  {
   "cell_type": "markdown",
   "id": "432f4879",
   "metadata": {},
   "source": [
    "- Zhitung atau Zh sebesar 1.645\n",
    "- Menggunakan uji kanan\n",
    "- Daerah penolakan H1 ada di sebelah kiri dengan critical value 1.645 atau dapat dikatakan bahwa daerah penerimaan H1 ada di sebelah kanan dengan critical value 1.645\n",
    "- Jika statistik uji kurang dari critical value, h1 ditolak.\n",
    "- Jika p value kurang dari a, h1 ditolak"
   ]
  },
  {
   "cell_type": "markdown",
   "id": "e83fe31c",
   "metadata": {},
   "source": [
    "#### 5.2.4. Hitung statistik uji"
   ]
  },
  {
   "cell_type": "code",
   "execution_count": 366,
   "id": "310fc5dc",
   "metadata": {},
   "outputs": [],
   "source": [
    "# nilai alpha dan nilai z atau critical valuenya\n",
    "a = 0.05\n",
    "Z5 = 1.64"
   ]
  },
  {
   "cell_type": "code",
   "execution_count": 367,
   "id": "16b690f2",
   "metadata": {},
   "outputs": [
    {
     "name": "stdout",
     "output_type": "stream",
     "text": [
      "Jumlah sample atau n dari tagihan bmi lebih dari 25 adalah sebanyak  1091\n",
      "rata-rata tagihan bmi lebih dari 25 adalah sebesar 13946.47603532447\n",
      "variance tagihan BMI lebih dari 25 adalah sebesar  164579189.5213265\n"
     ]
    }
   ],
   "source": [
    "# filter data tagihan bmi >25\n",
    "bmi25 = df1.loc[df['bmi'] > 25, ['charges']]\n",
    "n1 = len(bmi25)\n",
    "print(\"Jumlah sample atau n dari tagihan bmi lebih dari 25 adalah sebanyak \", n1)\n",
    "\n",
    "# menghitung rata-rata tagihan bmi>25\n",
    "mean1 = bmi25.mean().item()\n",
    "print(\"rata-rata tagihan bmi lebih dari 25 adalah sebesar\", mean1)\n",
    "      \n",
    "# menghitung variance tagihan bmi>25\n",
    "var1 = np.var(bmi25['charges'])\n",
    "print(\"variance tagihan BMI lebih dari 25 adalah sebesar \",var1)\n"
   ]
  },
  {
   "cell_type": "code",
   "execution_count": 368,
   "id": "55fb0ce8",
   "metadata": {},
   "outputs": [
    {
     "name": "stdout",
     "output_type": "stream",
     "text": [
      "Jumlah sample atau n dari tagihan bmi kurang dari 25 adalah sebanyak  245\n",
      "rata-rata tagihan bmi lebih dari 25 adalah sebesar 10282.224474367351\n",
      "variance tagihan BMI lebih dari 25 adalah sebesar  56326859.63068615\n"
     ]
    }
   ],
   "source": [
    "# filter data tagihan bmi <25\n",
    "bmi_kurang25 = df1.loc[df['bmi'] < 25, ['charges']]\n",
    "n2 = len(bmi_kurang25)\n",
    "print(\"Jumlah sample atau n dari tagihan bmi kurang dari 25 adalah sebanyak \", n2)\n",
    "\n",
    "# menghitung rata-rata tagihan bmi<25\n",
    "mean2 = bmi_kurang25.mean().item()\n",
    "print(\"rata-rata tagihan bmi lebih dari 25 adalah sebesar\", mean2)\n",
    "      \n",
    "# menghitung variance tagihan bmi<25\n",
    "var2 = np.var(bmi_kurang25['charges'])\n",
    "print(\"variance tagihan BMI lebih dari 25 adalah sebesar \",var2)"
   ]
  },
  {
   "cell_type": "code",
   "execution_count": 369,
   "id": "9bc33ee4",
   "metadata": {},
   "outputs": [
    {
     "data": {
      "text/plain": [
       "5.938287213162984"
      ]
     },
     "execution_count": 369,
     "metadata": {},
     "output_type": "execute_result"
    }
   ],
   "source": [
    "# hitung Z hitung\n",
    "Zh = (mean1-mean2)/(np.sqrt(((var1/n1) + (var2/n2))))\n",
    "Zh"
   ]
  },
  {
   "cell_type": "markdown",
   "id": "192924e4",
   "metadata": {},
   "source": [
    "#### Hitung Uji Statistik Menggunakan library"
   ]
  },
  {
   "cell_type": "code",
   "execution_count": 370,
   "id": "03983650",
   "metadata": {},
   "outputs": [],
   "source": [
    "# mengubah dataframe menjadi list\n",
    "bmi25_list = bmi25['charges'].values.tolist()\n",
    "bmi_kurang25_list= bmi_kurang25['charges'].values.tolist()"
   ]
  },
  {
   "cell_type": "code",
   "execution_count": 371,
   "id": "f970623e",
   "metadata": {},
   "outputs": [
    {
     "name": "stdout",
     "output_type": "stream",
     "text": [
      "4.305033989510502 0.9999916519950433\n"
     ]
    }
   ],
   "source": [
    "# menggunakan library\n",
    "stat, pvalue = ztest(bmi25_list, bmi_kurang25_list, alternative = 'smaller', value=0)\n",
    "print(stat, pvalue)"
   ]
  },
  {
   "cell_type": "markdown",
   "id": "4414f2de",
   "metadata": {},
   "source": [
    "#### 5.2.5. Pengambilan Keputusan"
   ]
  },
  {
   "cell_type": "code",
   "execution_count": 372,
   "id": "d69ed1d2",
   "metadata": {
    "scrolled": true
   },
   "outputs": [
    {
     "name": "stdout",
     "output_type": "stream",
     "text": [
      "Pengambilan Keputusan\n",
      "terima H1\n"
     ]
    }
   ],
   "source": [
    "# Pengambilan keputusan berdasarkan nilai z hitung/critical value dan nilai z5\n",
    "print('Pengambilan Keputusan')\n",
    "\n",
    "# jika Zh lebih besar dari Z5 maka:\n",
    "if Zh > z5:\n",
    "  print('terima H1') \n",
    "# jika Zh lebih kecil dari Z5 maka:\n",
    "else:\n",
    "  print('Tolak H1')"
   ]
  },
  {
   "cell_type": "markdown",
   "id": "8a49c78a",
   "metadata": {},
   "source": [
    "Oleh sebab itu, hipotesis (H1) yang menyatakan bahwa tagihan perokok lebih besar daripada tagihan non perokok diterima karena Z hitung > 1.645"
   ]
  },
  {
   "cell_type": "code",
   "execution_count": 373,
   "id": "e4ec5888",
   "metadata": {},
   "outputs": [
    {
     "name": "stdout",
     "output_type": "stream",
     "text": [
      " terima H1\n"
     ]
    }
   ],
   "source": [
    "# Pengambilan Keputusan berdasarkan alpha dan p value\n",
    "if pvalue > a:\n",
    "    print(' terima H1') \n",
    "else:\n",
    "    print('Tolak H1')"
   ]
  },
  {
   "cell_type": "markdown",
   "id": "c0abb4f7",
   "metadata": {},
   "source": [
    "Oleh sebab itu, hipotesis (H1) yang menyatakan bahwa tagihan perokok lebih besar daripada tagihan non perokok diterima karena p value hitung > a"
   ]
  },
  {
   "cell_type": "markdown",
   "id": "cb4f293d",
   "metadata": {},
   "source": [
    "#### 5.3 Tagihan kesehatan laki-laki lebih besar dari perempuan"
   ]
  },
  {
   "cell_type": "markdown",
   "id": "e7dfab1f",
   "metadata": {},
   "source": [
    "#### 5.3.1. Hipotesis dan Significance Level"
   ]
  },
  {
   "cell_type": "markdown",
   "id": "bb63fa8c",
   "metadata": {},
   "source": [
    "$$H_0: \\mu laki-laki  \\leq \\mu perempuan$$\n",
    "$$H_1: \\mu laki-laki >  \\mu perempuan $$"
   ]
  },
  {
   "cell_type": "code",
   "execution_count": 374,
   "id": "5e3f9616",
   "metadata": {},
   "outputs": [],
   "source": [
    "a= 0.05"
   ]
  },
  {
   "cell_type": "markdown",
   "id": "f4cf3249",
   "metadata": {},
   "source": [
    "#### 5.3.2. Tentukan statistik uji"
   ]
  },
  {
   "cell_type": "markdown",
   "id": "095ba3e6",
   "metadata": {},
   "source": [
    "Uji statistik yang digunakan adalah Z Test karena jumlah data lebih dari 30"
   ]
  },
  {
   "cell_type": "markdown",
   "id": "a078f791",
   "metadata": {},
   "source": [
    "#### 5.3.3. Aturan Keputusan"
   ]
  },
  {
   "cell_type": "markdown",
   "id": "13c82211",
   "metadata": {},
   "source": [
    "- Zhitung atau Zh sebesar 1.645\n",
    "- Menggunakan uji kanan\n",
    "- Daerah penolakan H1 ada di sebelah kiri dengan critical value 1.645 atau dapat dikatakan bahwa daerah penerimaan H1 ada di sebelah kanan dengan critical value 1.645\n",
    "- Jika statistik uji kurang dari critical value, h1 ditolak.\n",
    "- Jika p value kurang dari a, h1 ditolak"
   ]
  },
  {
   "cell_type": "markdown",
   "id": "4f1cb777",
   "metadata": {},
   "source": [
    "#### 5.3.4. Hitung statistik uji"
   ]
  },
  {
   "cell_type": "code",
   "execution_count": 375,
   "id": "725cd1c9",
   "metadata": {},
   "outputs": [],
   "source": [
    "# nilai alpha dan nilai z atau critical valuenya\n",
    "a = 0.05\n",
    "Z5 = 1.645"
   ]
  },
  {
   "cell_type": "code",
   "execution_count": 376,
   "id": "47996fd2",
   "metadata": {},
   "outputs": [
    {
     "name": "stdout",
     "output_type": "stream",
     "text": [
      "Jumlah sample atau n dari tagihan laki-laki adalah sebanyak  676\n",
      "rata-rata tagihan laki-laki lebih adalah sebesar 13956.751177721886\n",
      "variance tagihan laki-laki adalah sebesar  167998626.4342233\n"
     ]
    }
   ],
   "source": [
    "# filter data tagihan laki-laki\n",
    "laki = df1.loc[df['sex'] == \"male\", ['charges']]\n",
    "n1 = len(laki)\n",
    "print(\"Jumlah sample atau n dari tagihan laki-laki adalah sebanyak \", n1)\n",
    "\n",
    "# menghitung rata-rata tagihan laki-laki\n",
    "mean1 = laki.mean().item()\n",
    "print(\"rata-rata tagihan laki-laki lebih adalah sebesar\", mean1)\n",
    "      \n",
    "# menghitung variance tagihan bmi>25\n",
    "var1 = np.var(laki['charges'])\n",
    "print(\"variance tagihan laki-laki adalah sebesar \",var1)\n"
   ]
  },
  {
   "cell_type": "code",
   "execution_count": 377,
   "id": "1b7aac4d",
   "metadata": {},
   "outputs": [
    {
     "name": "stdout",
     "output_type": "stream",
     "text": [
      "Jumlah sample atau n dari tagihan perempuan adalah sebanyak  662\n",
      "rata-rata tagihan perempuan lebih adalah sebesar 12569.57884383534\n",
      "variance tagihan perempuan adalah sebesar  123660966.64456923\n"
     ]
    }
   ],
   "source": [
    "# filter data tagihan perempuan\n",
    "perempuan = df1.loc[df['sex'] == \"female\", ['charges']]\n",
    "n2 = len(perempuan)\n",
    "print(\"Jumlah sample atau n dari tagihan perempuan adalah sebanyak \", n2)\n",
    "\n",
    "# menghitung rata-rata tagihan perempuan\n",
    "mean2 = perempuan.mean().item()\n",
    "print(\"rata-rata tagihan perempuan lebih adalah sebesar\", mean2)\n",
    "      \n",
    "# menghitung variance tagihan perempuan \n",
    "var2 = np.var(perempuan['charges'])\n",
    "print(\"variance tagihan perempuan adalah sebesar \",var2)\n"
   ]
  },
  {
   "cell_type": "code",
   "execution_count": 378,
   "id": "25397553",
   "metadata": {},
   "outputs": [
    {
     "data": {
      "text/plain": [
       "2.1024575937074075"
      ]
     },
     "execution_count": 378,
     "metadata": {},
     "output_type": "execute_result"
    }
   ],
   "source": [
    "# hitung Z hitung\n",
    "Zh = (mean1-mean2)/(np.sqrt((var1/n1 +var2/n2)))\n",
    "Zh"
   ]
  },
  {
   "cell_type": "markdown",
   "id": "93e8bcb8",
   "metadata": {},
   "source": [
    "\n",
    "#### Hitung Uji Statistik Menggunakan library"
   ]
  },
  {
   "cell_type": "code",
   "execution_count": 379,
   "id": "f3f2bf4e",
   "metadata": {},
   "outputs": [],
   "source": [
    "# mengubah dataframe menjadi list\n",
    "laki_list = laki['charges'].values.tolist()\n",
    "perempuan_list= perempuan['charges'].values.tolist()"
   ]
  },
  {
   "cell_type": "code",
   "execution_count": 380,
   "id": "99095547",
   "metadata": {},
   "outputs": [
    {
     "name": "stdout",
     "output_type": "stream",
     "text": [
      "2.097546590051688 0.98202739129159\n"
     ]
    }
   ],
   "source": [
    "# menggunakan syntax cepat\n",
    "stat, pvalue = ztest(laki_list, perempuan_list, alternative = 'smaller', value=0)\n",
    "print(stat, pvalue)"
   ]
  },
  {
   "cell_type": "markdown",
   "id": "35dcf614",
   "metadata": {},
   "source": [
    "#### 5.3.5. Pengambilan Keputusan"
   ]
  },
  {
   "cell_type": "code",
   "execution_count": 381,
   "id": "836f0478",
   "metadata": {},
   "outputs": [
    {
     "name": "stdout",
     "output_type": "stream",
     "text": [
      "Pengambilan Keputusan\n",
      "terima H1\n"
     ]
    }
   ],
   "source": [
    "# Pengambilan keputusan berdasarkan nilai z hitung/critical value dan nilai z5\n",
    "print('Pengambilan Keputusan')\n",
    "\n",
    "# jika Zh lebih besar dari Z5 maka:\n",
    "if Zh > z5:\n",
    "  print('terima H1') \n",
    "# jika Zh lebih kecil dari Z5 maka:\n",
    "else:\n",
    "  print('Tolak H1')"
   ]
  },
  {
   "cell_type": "markdown",
   "id": "feeafed6",
   "metadata": {},
   "source": [
    "Oleh sebab itu, hipotesis (H1) yang menyatakan bahwa tagihan perokok lebih besar daripada tagihan non perokok diterima karena Z hitung > 1.645"
   ]
  },
  {
   "cell_type": "code",
   "execution_count": 383,
   "id": "9a903525",
   "metadata": {},
   "outputs": [
    {
     "name": "stdout",
     "output_type": "stream",
     "text": [
      " terima H1\n"
     ]
    }
   ],
   "source": [
    "# Pengambilan Keputusan berdasarkan alpha dan p value\n",
    "if pvalue > a:\n",
    "    print(' terima H1') \n",
    "else:\n",
    "    print('Tolak H1')"
   ]
  },
  {
   "cell_type": "markdown",
   "id": "1c176ba2",
   "metadata": {},
   "source": [
    "Oleh sebab itu, hipotesis (H1) yang menyatakan bahwa tagihan perokok lebih besar daripada tagihan non perokok diterima karena p value > a"
   ]
  }
 ],
 "metadata": {
  "kernelspec": {
   "display_name": "Python 3 (ipykernel)",
   "language": "python",
   "name": "python3"
  },
  "language_info": {
   "codemirror_mode": {
    "name": "ipython",
    "version": 3
   },
   "file_extension": ".py",
   "mimetype": "text/x-python",
   "name": "python",
   "nbconvert_exporter": "python",
   "pygments_lexer": "ipython3",
   "version": "3.9.7"
  }
 },
 "nbformat": 4,
 "nbformat_minor": 5
}
